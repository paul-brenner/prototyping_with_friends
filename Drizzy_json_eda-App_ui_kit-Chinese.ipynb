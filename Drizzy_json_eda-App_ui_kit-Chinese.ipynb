{
 "cells": [
  {
   "cell_type": "code",
   "execution_count": null,
   "id": "503774b5",
   "metadata": {},
   "outputs": [],
   "source": [
    "# can we just extract and analyze all the frames\n",
    "# what if we use prototype link instead\n",
    "# is there caching that could slow down updates like in nbviewer"
   ]
  },
  {
   "cell_type": "code",
   "execution_count": 1,
   "id": "1dcc94f1",
   "metadata": {},
   "outputs": [],
   "source": [
    "json_path = 'App_UI_Kit.json'"
   ]
  },
  {
   "cell_type": "code",
   "execution_count": 15,
   "id": "d50d35a4",
   "metadata": {},
   "outputs": [
    {
     "name": "stdout",
     "output_type": "stream",
     "text": [
      "cp775\n",
      "CP949\n"
     ]
    }
   ],
   "source": [
    "# looks like it is hard to figure out which encoding this is\n",
    "from charset_normalizer import from_path\n",
    "import json\n",
    "\n",
    "from charset_normalizer import detect\n",
    "with open(json_path, 'rb') as json_file:\n",
    "    data = json_file.read()\n",
    "    print(detect(data).get(\"encoding\"))\n",
    "\n",
    "sample_text = '\"name\":\"ôÝå4pt\\:ú@UM\f",
    "@\tôÝGúŽ\"'.encode()\n",
    "print(detect(sample_text).get(\"encoding\"))"
   ]
  },
  {
   "cell_type": "code",
   "execution_count": 16,
   "id": "967ddb7d",
   "metadata": {},
   "outputs": [
    {
     "ename": "JSONDecodeError",
     "evalue": "Invalid \\escape: line 9 column 970166 (char 3594608)",
     "output_type": "error",
     "traceback": [
      "\u001b[0;31m---------------------------------------------------------------------------\u001b[0m",
      "\u001b[0;31mJSONDecodeError\u001b[0m                           Traceback (most recent call last)",
      "Input \u001b[0;32mIn [16]\u001b[0m, in \u001b[0;36m<cell line: 4>\u001b[0;34m()\u001b[0m\n\u001b[1;32m      2\u001b[0m \u001b[38;5;28;01mimport\u001b[39;00m \u001b[38;5;21;01mjson\u001b[39;00m\n\u001b[1;32m      3\u001b[0m results \u001b[38;5;241m=\u001b[39m from_path(json_path)\n\u001b[0;32m----> 4\u001b[0m formatted_json \u001b[38;5;241m=\u001b[39m \u001b[43mjson\u001b[49m\u001b[38;5;241;43m.\u001b[39;49m\u001b[43mloads\u001b[49m\u001b[43m(\u001b[49m\u001b[38;5;28;43mstr\u001b[39;49m\u001b[43m(\u001b[49m\u001b[43mresults\u001b[49m\u001b[38;5;241;43m.\u001b[39;49m\u001b[43mbest\u001b[49m\u001b[43m(\u001b[49m\u001b[43m)\u001b[49m\u001b[43m)\u001b[49m\u001b[43m,\u001b[49m\u001b[43mstrict\u001b[49m\u001b[38;5;241;43m=\u001b[39;49m\u001b[38;5;28;43;01mFalse\u001b[39;49;00m\u001b[43m)\u001b[49m\n",
      "File \u001b[0;32m~/.pyenv/versions/3.10.3/lib/python3.10/json/__init__.py:359\u001b[0m, in \u001b[0;36mloads\u001b[0;34m(s, cls, object_hook, parse_float, parse_int, parse_constant, object_pairs_hook, **kw)\u001b[0m\n\u001b[1;32m    357\u001b[0m \u001b[38;5;28;01mif\u001b[39;00m parse_constant \u001b[38;5;129;01mis\u001b[39;00m \u001b[38;5;129;01mnot\u001b[39;00m \u001b[38;5;28;01mNone\u001b[39;00m:\n\u001b[1;32m    358\u001b[0m     kw[\u001b[38;5;124m'\u001b[39m\u001b[38;5;124mparse_constant\u001b[39m\u001b[38;5;124m'\u001b[39m] \u001b[38;5;241m=\u001b[39m parse_constant\n\u001b[0;32m--> 359\u001b[0m \u001b[38;5;28;01mreturn\u001b[39;00m \u001b[38;5;28;43mcls\u001b[39;49m\u001b[43m(\u001b[49m\u001b[38;5;241;43m*\u001b[39;49m\u001b[38;5;241;43m*\u001b[39;49m\u001b[43mkw\u001b[49m\u001b[43m)\u001b[49m\u001b[38;5;241;43m.\u001b[39;49m\u001b[43mdecode\u001b[49m\u001b[43m(\u001b[49m\u001b[43ms\u001b[49m\u001b[43m)\u001b[49m\n",
      "File \u001b[0;32m~/.pyenv/versions/3.10.3/lib/python3.10/json/decoder.py:337\u001b[0m, in \u001b[0;36mJSONDecoder.decode\u001b[0;34m(self, s, _w)\u001b[0m\n\u001b[1;32m    332\u001b[0m \u001b[38;5;28;01mdef\u001b[39;00m \u001b[38;5;21mdecode\u001b[39m(\u001b[38;5;28mself\u001b[39m, s, _w\u001b[38;5;241m=\u001b[39mWHITESPACE\u001b[38;5;241m.\u001b[39mmatch):\n\u001b[1;32m    333\u001b[0m     \u001b[38;5;124;03m\"\"\"Return the Python representation of ``s`` (a ``str`` instance\u001b[39;00m\n\u001b[1;32m    334\u001b[0m \u001b[38;5;124;03m    containing a JSON document).\u001b[39;00m\n\u001b[1;32m    335\u001b[0m \n\u001b[1;32m    336\u001b[0m \u001b[38;5;124;03m    \"\"\"\u001b[39;00m\n\u001b[0;32m--> 337\u001b[0m     obj, end \u001b[38;5;241m=\u001b[39m \u001b[38;5;28;43mself\u001b[39;49m\u001b[38;5;241;43m.\u001b[39;49m\u001b[43mraw_decode\u001b[49m\u001b[43m(\u001b[49m\u001b[43ms\u001b[49m\u001b[43m,\u001b[49m\u001b[43m \u001b[49m\u001b[43midx\u001b[49m\u001b[38;5;241;43m=\u001b[39;49m\u001b[43m_w\u001b[49m\u001b[43m(\u001b[49m\u001b[43ms\u001b[49m\u001b[43m,\u001b[49m\u001b[43m \u001b[49m\u001b[38;5;241;43m0\u001b[39;49m\u001b[43m)\u001b[49m\u001b[38;5;241;43m.\u001b[39;49m\u001b[43mend\u001b[49m\u001b[43m(\u001b[49m\u001b[43m)\u001b[49m\u001b[43m)\u001b[49m\n\u001b[1;32m    338\u001b[0m     end \u001b[38;5;241m=\u001b[39m _w(s, end)\u001b[38;5;241m.\u001b[39mend()\n\u001b[1;32m    339\u001b[0m     \u001b[38;5;28;01mif\u001b[39;00m end \u001b[38;5;241m!=\u001b[39m \u001b[38;5;28mlen\u001b[39m(s):\n",
      "File \u001b[0;32m~/.pyenv/versions/3.10.3/lib/python3.10/json/decoder.py:353\u001b[0m, in \u001b[0;36mJSONDecoder.raw_decode\u001b[0;34m(self, s, idx)\u001b[0m\n\u001b[1;32m    344\u001b[0m \u001b[38;5;124;03m\"\"\"Decode a JSON document from ``s`` (a ``str`` beginning with\u001b[39;00m\n\u001b[1;32m    345\u001b[0m \u001b[38;5;124;03ma JSON document) and return a 2-tuple of the Python\u001b[39;00m\n\u001b[1;32m    346\u001b[0m \u001b[38;5;124;03mrepresentation and the index in ``s`` where the document ended.\u001b[39;00m\n\u001b[0;32m   (...)\u001b[0m\n\u001b[1;32m    350\u001b[0m \n\u001b[1;32m    351\u001b[0m \u001b[38;5;124;03m\"\"\"\u001b[39;00m\n\u001b[1;32m    352\u001b[0m \u001b[38;5;28;01mtry\u001b[39;00m:\n\u001b[0;32m--> 353\u001b[0m     obj, end \u001b[38;5;241m=\u001b[39m \u001b[38;5;28;43mself\u001b[39;49m\u001b[38;5;241;43m.\u001b[39;49m\u001b[43mscan_once\u001b[49m\u001b[43m(\u001b[49m\u001b[43ms\u001b[49m\u001b[43m,\u001b[49m\u001b[43m \u001b[49m\u001b[43midx\u001b[49m\u001b[43m)\u001b[49m\n\u001b[1;32m    354\u001b[0m \u001b[38;5;28;01mexcept\u001b[39;00m \u001b[38;5;167;01mStopIteration\u001b[39;00m \u001b[38;5;28;01mas\u001b[39;00m err:\n\u001b[1;32m    355\u001b[0m     \u001b[38;5;28;01mraise\u001b[39;00m JSONDecodeError(\u001b[38;5;124m\"\u001b[39m\u001b[38;5;124mExpecting value\u001b[39m\u001b[38;5;124m\"\u001b[39m, s, err\u001b[38;5;241m.\u001b[39mvalue) \u001b[38;5;28;01mfrom\u001b[39;00m \u001b[38;5;28mNone\u001b[39m\n",
      "\u001b[0;31mJSONDecodeError\u001b[0m: Invalid \\escape: line 9 column 970166 (char 3594608)"
     ]
    }
   ],
   "source": [
    "from charset_normalizer import from_path\n",
    "import json\n",
    "results = from_path(json_path)\n",
    "formatted_json = json.loads(str(results.best()),strict=False)"
   ]
  },
  {
   "cell_type": "code",
   "execution_count": 9,
   "id": "c0e6350f",
   "metadata": {},
   "outputs": [
    {
     "ename": "JSONDecodeError",
     "evalue": "Invalid \\escape: line 77 column 411738 (char 3594608)",
     "output_type": "error",
     "traceback": [
      "\u001b[0;31m---------------------------------------------------------------------------\u001b[0m",
      "\u001b[0;31mJSONDecodeError\u001b[0m                           Traceback (most recent call last)",
      "Input \u001b[0;32mIn [9]\u001b[0m, in \u001b[0;36m<cell line: 1>\u001b[0;34m()\u001b[0m\n\u001b[1;32m      1\u001b[0m \u001b[38;5;28;01mwith\u001b[39;00m \u001b[38;5;28mopen\u001b[39m(json_path, encoding\u001b[38;5;241m=\u001b[39mdetect(data)\u001b[38;5;241m.\u001b[39mget(\u001b[38;5;124m\"\u001b[39m\u001b[38;5;124mencoding\u001b[39m\u001b[38;5;124m\"\u001b[39m), errors\u001b[38;5;241m=\u001b[39m\u001b[38;5;124m'\u001b[39m\u001b[38;5;124mignore\u001b[39m\u001b[38;5;124m'\u001b[39m) \u001b[38;5;28;01mas\u001b[39;00m json_file_encoded:\n\u001b[0;32m----> 2\u001b[0m     formatted_json \u001b[38;5;241m=\u001b[39m \u001b[43mjson\u001b[49m\u001b[38;5;241;43m.\u001b[39;49m\u001b[43mload\u001b[49m\u001b[43m(\u001b[49m\u001b[43mjson_file_encoded\u001b[49m\u001b[43m,\u001b[49m\u001b[43mstrict\u001b[49m\u001b[38;5;241;43m=\u001b[39;49m\u001b[38;5;28;43;01mFalse\u001b[39;49;00m\u001b[43m)\u001b[49m\n",
      "File \u001b[0;32m~/.pyenv/versions/3.10.3/lib/python3.10/json/__init__.py:293\u001b[0m, in \u001b[0;36mload\u001b[0;34m(fp, cls, object_hook, parse_float, parse_int, parse_constant, object_pairs_hook, **kw)\u001b[0m\n\u001b[1;32m    274\u001b[0m \u001b[38;5;28;01mdef\u001b[39;00m \u001b[38;5;21mload\u001b[39m(fp, \u001b[38;5;241m*\u001b[39m, \u001b[38;5;28mcls\u001b[39m\u001b[38;5;241m=\u001b[39m\u001b[38;5;28;01mNone\u001b[39;00m, object_hook\u001b[38;5;241m=\u001b[39m\u001b[38;5;28;01mNone\u001b[39;00m, parse_float\u001b[38;5;241m=\u001b[39m\u001b[38;5;28;01mNone\u001b[39;00m,\n\u001b[1;32m    275\u001b[0m         parse_int\u001b[38;5;241m=\u001b[39m\u001b[38;5;28;01mNone\u001b[39;00m, parse_constant\u001b[38;5;241m=\u001b[39m\u001b[38;5;28;01mNone\u001b[39;00m, object_pairs_hook\u001b[38;5;241m=\u001b[39m\u001b[38;5;28;01mNone\u001b[39;00m, \u001b[38;5;241m*\u001b[39m\u001b[38;5;241m*\u001b[39mkw):\n\u001b[1;32m    276\u001b[0m     \u001b[38;5;124;03m\"\"\"Deserialize ``fp`` (a ``.read()``-supporting file-like object containing\u001b[39;00m\n\u001b[1;32m    277\u001b[0m \u001b[38;5;124;03m    a JSON document) to a Python object.\u001b[39;00m\n\u001b[1;32m    278\u001b[0m \n\u001b[0;32m   (...)\u001b[0m\n\u001b[1;32m    291\u001b[0m \u001b[38;5;124;03m    kwarg; otherwise ``JSONDecoder`` is used.\u001b[39;00m\n\u001b[1;32m    292\u001b[0m \u001b[38;5;124;03m    \"\"\"\u001b[39;00m\n\u001b[0;32m--> 293\u001b[0m     \u001b[38;5;28;01mreturn\u001b[39;00m \u001b[43mloads\u001b[49m\u001b[43m(\u001b[49m\u001b[43mfp\u001b[49m\u001b[38;5;241;43m.\u001b[39;49m\u001b[43mread\u001b[49m\u001b[43m(\u001b[49m\u001b[43m)\u001b[49m\u001b[43m,\u001b[49m\n\u001b[1;32m    294\u001b[0m \u001b[43m        \u001b[49m\u001b[38;5;28;43mcls\u001b[39;49m\u001b[38;5;241;43m=\u001b[39;49m\u001b[38;5;28;43mcls\u001b[39;49m\u001b[43m,\u001b[49m\u001b[43m \u001b[49m\u001b[43mobject_hook\u001b[49m\u001b[38;5;241;43m=\u001b[39;49m\u001b[43mobject_hook\u001b[49m\u001b[43m,\u001b[49m\n\u001b[1;32m    295\u001b[0m \u001b[43m        \u001b[49m\u001b[43mparse_float\u001b[49m\u001b[38;5;241;43m=\u001b[39;49m\u001b[43mparse_float\u001b[49m\u001b[43m,\u001b[49m\u001b[43m \u001b[49m\u001b[43mparse_int\u001b[49m\u001b[38;5;241;43m=\u001b[39;49m\u001b[43mparse_int\u001b[49m\u001b[43m,\u001b[49m\n\u001b[1;32m    296\u001b[0m \u001b[43m        \u001b[49m\u001b[43mparse_constant\u001b[49m\u001b[38;5;241;43m=\u001b[39;49m\u001b[43mparse_constant\u001b[49m\u001b[43m,\u001b[49m\u001b[43m \u001b[49m\u001b[43mobject_pairs_hook\u001b[49m\u001b[38;5;241;43m=\u001b[39;49m\u001b[43mobject_pairs_hook\u001b[49m\u001b[43m,\u001b[49m\u001b[43m \u001b[49m\u001b[38;5;241;43m*\u001b[39;49m\u001b[38;5;241;43m*\u001b[39;49m\u001b[43mkw\u001b[49m\u001b[43m)\u001b[49m\n",
      "File \u001b[0;32m~/.pyenv/versions/3.10.3/lib/python3.10/json/__init__.py:359\u001b[0m, in \u001b[0;36mloads\u001b[0;34m(s, cls, object_hook, parse_float, parse_int, parse_constant, object_pairs_hook, **kw)\u001b[0m\n\u001b[1;32m    357\u001b[0m \u001b[38;5;28;01mif\u001b[39;00m parse_constant \u001b[38;5;129;01mis\u001b[39;00m \u001b[38;5;129;01mnot\u001b[39;00m \u001b[38;5;28;01mNone\u001b[39;00m:\n\u001b[1;32m    358\u001b[0m     kw[\u001b[38;5;124m'\u001b[39m\u001b[38;5;124mparse_constant\u001b[39m\u001b[38;5;124m'\u001b[39m] \u001b[38;5;241m=\u001b[39m parse_constant\n\u001b[0;32m--> 359\u001b[0m \u001b[38;5;28;01mreturn\u001b[39;00m \u001b[38;5;28;43mcls\u001b[39;49m\u001b[43m(\u001b[49m\u001b[38;5;241;43m*\u001b[39;49m\u001b[38;5;241;43m*\u001b[39;49m\u001b[43mkw\u001b[49m\u001b[43m)\u001b[49m\u001b[38;5;241;43m.\u001b[39;49m\u001b[43mdecode\u001b[49m\u001b[43m(\u001b[49m\u001b[43ms\u001b[49m\u001b[43m)\u001b[49m\n",
      "File \u001b[0;32m~/.pyenv/versions/3.10.3/lib/python3.10/json/decoder.py:337\u001b[0m, in \u001b[0;36mJSONDecoder.decode\u001b[0;34m(self, s, _w)\u001b[0m\n\u001b[1;32m    332\u001b[0m \u001b[38;5;28;01mdef\u001b[39;00m \u001b[38;5;21mdecode\u001b[39m(\u001b[38;5;28mself\u001b[39m, s, _w\u001b[38;5;241m=\u001b[39mWHITESPACE\u001b[38;5;241m.\u001b[39mmatch):\n\u001b[1;32m    333\u001b[0m     \u001b[38;5;124;03m\"\"\"Return the Python representation of ``s`` (a ``str`` instance\u001b[39;00m\n\u001b[1;32m    334\u001b[0m \u001b[38;5;124;03m    containing a JSON document).\u001b[39;00m\n\u001b[1;32m    335\u001b[0m \n\u001b[1;32m    336\u001b[0m \u001b[38;5;124;03m    \"\"\"\u001b[39;00m\n\u001b[0;32m--> 337\u001b[0m     obj, end \u001b[38;5;241m=\u001b[39m \u001b[38;5;28;43mself\u001b[39;49m\u001b[38;5;241;43m.\u001b[39;49m\u001b[43mraw_decode\u001b[49m\u001b[43m(\u001b[49m\u001b[43ms\u001b[49m\u001b[43m,\u001b[49m\u001b[43m \u001b[49m\u001b[43midx\u001b[49m\u001b[38;5;241;43m=\u001b[39;49m\u001b[43m_w\u001b[49m\u001b[43m(\u001b[49m\u001b[43ms\u001b[49m\u001b[43m,\u001b[49m\u001b[43m \u001b[49m\u001b[38;5;241;43m0\u001b[39;49m\u001b[43m)\u001b[49m\u001b[38;5;241;43m.\u001b[39;49m\u001b[43mend\u001b[49m\u001b[43m(\u001b[49m\u001b[43m)\u001b[49m\u001b[43m)\u001b[49m\n\u001b[1;32m    338\u001b[0m     end \u001b[38;5;241m=\u001b[39m _w(s, end)\u001b[38;5;241m.\u001b[39mend()\n\u001b[1;32m    339\u001b[0m     \u001b[38;5;28;01mif\u001b[39;00m end \u001b[38;5;241m!=\u001b[39m \u001b[38;5;28mlen\u001b[39m(s):\n",
      "File \u001b[0;32m~/.pyenv/versions/3.10.3/lib/python3.10/json/decoder.py:353\u001b[0m, in \u001b[0;36mJSONDecoder.raw_decode\u001b[0;34m(self, s, idx)\u001b[0m\n\u001b[1;32m    344\u001b[0m \u001b[38;5;124;03m\"\"\"Decode a JSON document from ``s`` (a ``str`` beginning with\u001b[39;00m\n\u001b[1;32m    345\u001b[0m \u001b[38;5;124;03ma JSON document) and return a 2-tuple of the Python\u001b[39;00m\n\u001b[1;32m    346\u001b[0m \u001b[38;5;124;03mrepresentation and the index in ``s`` where the document ended.\u001b[39;00m\n\u001b[0;32m   (...)\u001b[0m\n\u001b[1;32m    350\u001b[0m \n\u001b[1;32m    351\u001b[0m \u001b[38;5;124;03m\"\"\"\u001b[39;00m\n\u001b[1;32m    352\u001b[0m \u001b[38;5;28;01mtry\u001b[39;00m:\n\u001b[0;32m--> 353\u001b[0m     obj, end \u001b[38;5;241m=\u001b[39m \u001b[38;5;28;43mself\u001b[39;49m\u001b[38;5;241;43m.\u001b[39;49m\u001b[43mscan_once\u001b[49m\u001b[43m(\u001b[49m\u001b[43ms\u001b[49m\u001b[43m,\u001b[49m\u001b[43m \u001b[49m\u001b[43midx\u001b[49m\u001b[43m)\u001b[49m\n\u001b[1;32m    354\u001b[0m \u001b[38;5;28;01mexcept\u001b[39;00m \u001b[38;5;167;01mStopIteration\u001b[39;00m \u001b[38;5;28;01mas\u001b[39;00m err:\n\u001b[1;32m    355\u001b[0m     \u001b[38;5;28;01mraise\u001b[39;00m JSONDecodeError(\u001b[38;5;124m\"\u001b[39m\u001b[38;5;124mExpecting value\u001b[39m\u001b[38;5;124m\"\u001b[39m, s, err\u001b[38;5;241m.\u001b[39mvalue) \u001b[38;5;28;01mfrom\u001b[39;00m \u001b[38;5;28mNone\u001b[39m\n",
      "\u001b[0;31mJSONDecodeError\u001b[0m: Invalid \\escape: line 77 column 411738 (char 3594608)"
     ]
    }
   ],
   "source": [
    "with open(json_path, encoding=detect(data).get(\"encoding\"), errors='ignore') as json_file_encoded:\n",
    "    formatted_json = json.load(json_file_encoded,strict=False)"
   ]
  },
  {
   "cell_type": "code",
   "execution_count": 14,
   "id": "2ddefd3b",
   "metadata": {},
   "outputs": [
    {
     "ename": "JSONDecodeError",
     "evalue": "Invalid \\escape: line 77 column 411553 (char 3592688)",
     "output_type": "error",
     "traceback": [
      "\u001b[0;31m---------------------------------------------------------------------------\u001b[0m",
      "\u001b[0;31mJSONDecodeError\u001b[0m                           Traceback (most recent call last)",
      "Input \u001b[0;32mIn [14]\u001b[0m, in \u001b[0;36m<cell line: 4>\u001b[0;34m()\u001b[0m\n\u001b[1;32m      3\u001b[0m \n\u001b[1;32m      4\u001b[0m \n\u001b[0;32m----> 5\u001b[0m with open(json_path, encoding='gbk', errors='ignore') as json_file_encoded:\n\u001b[1;32m      6\u001b[0m     formatted_json = json.load(json_file_encoded,strict=False)\n",
      "File \u001b[0;32m~/.pyenv/versions/3.10.3/lib/python3.10/json/__init__.py:293\u001b[0m, in \u001b[0;36mload\u001b[0;34m(fp, cls, object_hook, parse_float, parse_int, parse_constant, object_pairs_hook, **kw)\u001b[0m\n\u001b[1;32m    274\u001b[0m \u001b[38;5;28;01mdef\u001b[39;00m \u001b[38;5;21mload\u001b[39m(fp, \u001b[38;5;241m*\u001b[39m, \u001b[38;5;28mcls\u001b[39m\u001b[38;5;241m=\u001b[39m\u001b[38;5;28;01mNone\u001b[39;00m, object_hook\u001b[38;5;241m=\u001b[39m\u001b[38;5;28;01mNone\u001b[39;00m, parse_float\u001b[38;5;241m=\u001b[39m\u001b[38;5;28;01mNone\u001b[39;00m,\n\u001b[1;32m    275\u001b[0m         parse_int\u001b[38;5;241m=\u001b[39m\u001b[38;5;28;01mNone\u001b[39;00m, parse_constant\u001b[38;5;241m=\u001b[39m\u001b[38;5;28;01mNone\u001b[39;00m, object_pairs_hook\u001b[38;5;241m=\u001b[39m\u001b[38;5;28;01mNone\u001b[39;00m, \u001b[38;5;241m*\u001b[39m\u001b[38;5;241m*\u001b[39mkw):\n\u001b[1;32m    276\u001b[0m     \u001b[38;5;124;03m\"\"\"Deserialize ``fp`` (a ``.read()``-supporting file-like object containing\u001b[39;00m\n\u001b[1;32m    277\u001b[0m \u001b[38;5;124;03m    a JSON document) to a Python object.\u001b[39;00m\n\u001b[1;32m    278\u001b[0m \n\u001b[0;32m   (...)\u001b[0m\n\u001b[1;32m    291\u001b[0m \u001b[38;5;124;03m    kwarg; otherwise ``JSONDecoder`` is used.\u001b[39;00m\n\u001b[1;32m    292\u001b[0m \u001b[38;5;124;03m    \"\"\"\u001b[39;00m\n\u001b[0;32m--> 293\u001b[0m     \u001b[38;5;28;01mreturn\u001b[39;00m \u001b[43mloads\u001b[49m\u001b[43m(\u001b[49m\u001b[43mfp\u001b[49m\u001b[38;5;241;43m.\u001b[39;49m\u001b[43mread\u001b[49m\u001b[43m(\u001b[49m\u001b[43m)\u001b[49m\u001b[43m,\u001b[49m\n\u001b[1;32m    294\u001b[0m \u001b[43m        \u001b[49m\u001b[38;5;28;43mcls\u001b[39;49m\u001b[38;5;241;43m=\u001b[39;49m\u001b[38;5;28;43mcls\u001b[39;49m\u001b[43m,\u001b[49m\u001b[43m \u001b[49m\u001b[43mobject_hook\u001b[49m\u001b[38;5;241;43m=\u001b[39;49m\u001b[43mobject_hook\u001b[49m\u001b[43m,\u001b[49m\n\u001b[1;32m    295\u001b[0m \u001b[43m        \u001b[49m\u001b[43mparse_float\u001b[49m\u001b[38;5;241;43m=\u001b[39;49m\u001b[43mparse_float\u001b[49m\u001b[43m,\u001b[49m\u001b[43m \u001b[49m\u001b[43mparse_int\u001b[49m\u001b[38;5;241;43m=\u001b[39;49m\u001b[43mparse_int\u001b[49m\u001b[43m,\u001b[49m\n\u001b[1;32m    296\u001b[0m \u001b[43m        \u001b[49m\u001b[43mparse_constant\u001b[49m\u001b[38;5;241;43m=\u001b[39;49m\u001b[43mparse_constant\u001b[49m\u001b[43m,\u001b[49m\u001b[43m \u001b[49m\u001b[43mobject_pairs_hook\u001b[49m\u001b[38;5;241;43m=\u001b[39;49m\u001b[43mobject_pairs_hook\u001b[49m\u001b[43m,\u001b[49m\u001b[43m \u001b[49m\u001b[38;5;241;43m*\u001b[39;49m\u001b[38;5;241;43m*\u001b[39;49m\u001b[43mkw\u001b[49m\u001b[43m)\u001b[49m\n",
      "File \u001b[0;32m~/.pyenv/versions/3.10.3/lib/python3.10/json/__init__.py:359\u001b[0m, in \u001b[0;36mloads\u001b[0;34m(s, cls, object_hook, parse_float, parse_int, parse_constant, object_pairs_hook, **kw)\u001b[0m\n\u001b[1;32m    357\u001b[0m \u001b[38;5;28;01mif\u001b[39;00m parse_constant \u001b[38;5;129;01mis\u001b[39;00m \u001b[38;5;129;01mnot\u001b[39;00m \u001b[38;5;28;01mNone\u001b[39;00m:\n\u001b[1;32m    358\u001b[0m     kw[\u001b[38;5;124m'\u001b[39m\u001b[38;5;124mparse_constant\u001b[39m\u001b[38;5;124m'\u001b[39m] \u001b[38;5;241m=\u001b[39m parse_constant\n\u001b[0;32m--> 359\u001b[0m \u001b[38;5;28;01mreturn\u001b[39;00m \u001b[38;5;28;43mcls\u001b[39;49m\u001b[43m(\u001b[49m\u001b[38;5;241;43m*\u001b[39;49m\u001b[38;5;241;43m*\u001b[39;49m\u001b[43mkw\u001b[49m\u001b[43m)\u001b[49m\u001b[38;5;241;43m.\u001b[39;49m\u001b[43mdecode\u001b[49m\u001b[43m(\u001b[49m\u001b[43ms\u001b[49m\u001b[43m)\u001b[49m\n",
      "File \u001b[0;32m~/.pyenv/versions/3.10.3/lib/python3.10/json/decoder.py:337\u001b[0m, in \u001b[0;36mJSONDecoder.decode\u001b[0;34m(self, s, _w)\u001b[0m\n\u001b[1;32m    332\u001b[0m \u001b[38;5;28;01mdef\u001b[39;00m \u001b[38;5;21mdecode\u001b[39m(\u001b[38;5;28mself\u001b[39m, s, _w\u001b[38;5;241m=\u001b[39mWHITESPACE\u001b[38;5;241m.\u001b[39mmatch):\n\u001b[1;32m    333\u001b[0m     \u001b[38;5;124;03m\"\"\"Return the Python representation of ``s`` (a ``str`` instance\u001b[39;00m\n\u001b[1;32m    334\u001b[0m \u001b[38;5;124;03m    containing a JSON document).\u001b[39;00m\n\u001b[1;32m    335\u001b[0m \n\u001b[1;32m    336\u001b[0m \u001b[38;5;124;03m    \"\"\"\u001b[39;00m\n\u001b[0;32m--> 337\u001b[0m     obj, end \u001b[38;5;241m=\u001b[39m \u001b[38;5;28;43mself\u001b[39;49m\u001b[38;5;241;43m.\u001b[39;49m\u001b[43mraw_decode\u001b[49m\u001b[43m(\u001b[49m\u001b[43ms\u001b[49m\u001b[43m,\u001b[49m\u001b[43m \u001b[49m\u001b[43midx\u001b[49m\u001b[38;5;241;43m=\u001b[39;49m\u001b[43m_w\u001b[49m\u001b[43m(\u001b[49m\u001b[43ms\u001b[49m\u001b[43m,\u001b[49m\u001b[43m \u001b[49m\u001b[38;5;241;43m0\u001b[39;49m\u001b[43m)\u001b[49m\u001b[38;5;241;43m.\u001b[39;49m\u001b[43mend\u001b[49m\u001b[43m(\u001b[49m\u001b[43m)\u001b[49m\u001b[43m)\u001b[49m\n\u001b[1;32m    338\u001b[0m     end \u001b[38;5;241m=\u001b[39m _w(s, end)\u001b[38;5;241m.\u001b[39mend()\n\u001b[1;32m    339\u001b[0m     \u001b[38;5;28;01mif\u001b[39;00m end \u001b[38;5;241m!=\u001b[39m \u001b[38;5;28mlen\u001b[39m(s):\n",
      "File \u001b[0;32m~/.pyenv/versions/3.10.3/lib/python3.10/json/decoder.py:353\u001b[0m, in \u001b[0;36mJSONDecoder.raw_decode\u001b[0;34m(self, s, idx)\u001b[0m\n\u001b[1;32m    344\u001b[0m \u001b[38;5;124;03m\"\"\"Decode a JSON document from ``s`` (a ``str`` beginning with\u001b[39;00m\n\u001b[1;32m    345\u001b[0m \u001b[38;5;124;03ma JSON document) and return a 2-tuple of the Python\u001b[39;00m\n\u001b[1;32m    346\u001b[0m \u001b[38;5;124;03mrepresentation and the index in ``s`` where the document ended.\u001b[39;00m\n\u001b[0;32m   (...)\u001b[0m\n\u001b[1;32m    350\u001b[0m \n\u001b[1;32m    351\u001b[0m \u001b[38;5;124;03m\"\"\"\u001b[39;00m\n\u001b[1;32m    352\u001b[0m \u001b[38;5;28;01mtry\u001b[39;00m:\n\u001b[0;32m--> 353\u001b[0m     obj, end \u001b[38;5;241m=\u001b[39m \u001b[38;5;28;43mself\u001b[39;49m\u001b[38;5;241;43m.\u001b[39;49m\u001b[43mscan_once\u001b[49m\u001b[43m(\u001b[49m\u001b[43ms\u001b[49m\u001b[43m,\u001b[49m\u001b[43m \u001b[49m\u001b[43midx\u001b[49m\u001b[43m)\u001b[49m\n\u001b[1;32m    354\u001b[0m \u001b[38;5;28;01mexcept\u001b[39;00m \u001b[38;5;167;01mStopIteration\u001b[39;00m \u001b[38;5;28;01mas\u001b[39;00m err:\n\u001b[1;32m    355\u001b[0m     \u001b[38;5;28;01mraise\u001b[39;00m JSONDecodeError(\u001b[38;5;124m\"\u001b[39m\u001b[38;5;124mExpecting value\u001b[39m\u001b[38;5;124m\"\u001b[39m, s, err\u001b[38;5;241m.\u001b[39mvalue) \u001b[38;5;28;01mfrom\u001b[39;00m \u001b[38;5;28mNone\u001b[39m\n",
      "\u001b[0;31mJSONDecodeError\u001b[0m: Invalid \\escape: line 77 column 411553 (char 3592688)"
     ]
    }
   ],
   "source": [
    "sample_text = '\"name\":\"ôÝå4pt\\:ú@UM\f",
    "@\tôÝGúŽ\"'.encode()\n",
    "\n",
    "\n",
    "with open(json_path, encoding=detect(sample_text).get(\"encoding\"), errors='ignore') as json_file_encoded:\n",
    "    formatted_json = json.load(json_file_encoded,strict=False)"
   ]
  },
  {
   "cell_type": "code",
   "execution_count": 11,
   "id": "ae262520",
   "metadata": {},
   "outputs": [
    {
     "data": {
      "text/plain": [
       "dict_keys(['document', 'components', 'componentSets', 'schemaVersion', 'styles', 'name', 'lastModified', 'thumbnailUrl', 'version', 'role', 'editorType', 'linkAccess'])"
      ]
     },
     "execution_count": 11,
     "metadata": {},
     "output_type": "execute_result"
    }
   ],
   "source": [
    "# here is a bunch of stuff at the top level of the json output\n",
    "formatted_json.keys()"
   ]
  },
  {
   "cell_type": "code",
   "execution_count": 33,
   "id": "69780be9",
   "metadata": {},
   "outputs": [
    {
     "name": "stdout",
     "output_type": "stream",
     "text": [
      "dict_keys(['id', 'name', 'type', 'children'])\n",
      "id : 0:0\n",
      "name : Document\n",
      "type : DOCUMENT\n",
      "children_data_type : <class 'list'>\n",
      "children_length : 3\n"
     ]
    }
   ],
   "source": [
    "# assuming what we care about will be buried in document, so lets see what elements are in there\n",
    "print(formatted_json['document'].keys())\n",
    "print(\"id : \" + formatted_json['document']['id'])\n",
    "print(\"name : \" + formatted_json['document']['name'])\n",
    "print(\"type : \" + formatted_json['document']['type'])\n",
    "print(\"children_data_type : \" + str(type(formatted_json['document']['children'])))\n",
    "print(\"children_length : \" + str(len(formatted_json['document']['children'])))"
   ]
  },
  {
   "cell_type": "code",
   "execution_count": 36,
   "id": "3031090b",
   "metadata": {},
   "outputs": [
    {
     "name": "stdout",
     "output_type": "stream",
     "text": [
      "dict_keys(['id', 'name', 'type', 'children', 'backgroundColor', 'prototypeStartNodeID', 'flowStartingPoints', 'prototypeDevice', 'exportSettings'])\n",
      "id : 0:344\n",
      "name : Boilerplate\n",
      "type : CANVAS\n",
      "children_data_type : <class 'list'>\n",
      "children_length : 43\n"
     ]
    }
   ],
   "source": [
    "# first element in children\n",
    "element = 0\n",
    "print(formatted_json['document']['children'][element].keys())\n",
    "print(\"id : \" + formatted_json['document']['children'][element]['id'])\n",
    "print(\"name : \" + formatted_json['document']['children'][element]['name'])\n",
    "print(\"type : \" + formatted_json['document']['children'][element]['type'])\n",
    "print(\"children_data_type : \" + str(type(formatted_json['document']['children'][element]['children'])))\n",
    "print(\"children_length : \" + str(len(formatted_json['document']['children'][element]['children'])))"
   ]
  },
  {
   "cell_type": "code",
   "execution_count": 38,
   "id": "7954f683",
   "metadata": {},
   "outputs": [
    {
     "name": "stdout",
     "output_type": "stream",
     "text": [
      "dict_keys(['id', 'name', 'type', 'children', 'backgroundColor', 'prototypeStartNodeID', 'flowStartingPoints', 'prototypeDevice', 'exportSettings'])\n",
      "id : 0:417\n",
      "name : Mobile Components\n",
      "type : CANVAS\n",
      "children_data_type : <class 'list'>\n",
      "children_length : 16\n"
     ]
    }
   ],
   "source": [
    "# first element in children\n",
    "element = 1\n",
    "print(formatted_json['document']['children'][element].keys())\n",
    "print(\"id : \" + formatted_json['document']['children'][element]['id'])\n",
    "print(\"name : \" + formatted_json['document']['children'][element]['name'])\n",
    "print(\"type : \" + formatted_json['document']['children'][element]['type'])\n",
    "print(\"children_data_type : \" + str(type(formatted_json['document']['children'][element]['children'])))\n",
    "print(\"children_length : \" + str(len(formatted_json['document']['children'][element]['children'])))"
   ]
  },
  {
   "cell_type": "code",
   "execution_count": 37,
   "id": "b3c5f99d",
   "metadata": {},
   "outputs": [
    {
     "name": "stdout",
     "output_type": "stream",
     "text": [
      "dict_keys(['id', 'name', 'type', 'children', 'backgroundColor', 'prototypeStartNodeID', 'flowStartingPoints', 'prototypeDevice'])\n",
      "id : 3332:13579\n",
      "name : Dizzy Prototype v2\n",
      "type : CANVAS\n",
      "children_data_type : <class 'list'>\n",
      "children_length : 21\n"
     ]
    }
   ],
   "source": [
    "# first element in children\n",
    "element = 2\n",
    "print(formatted_json['document']['children'][element].keys())\n",
    "print(\"id : \" + formatted_json['document']['children'][element]['id'])\n",
    "print(\"name : \" + formatted_json['document']['children'][element]['name'])\n",
    "print(\"type : \" + formatted_json['document']['children'][element]['type'])\n",
    "print(\"children_data_type : \" + str(type(formatted_json['document']['children'][element]['children'])))\n",
    "print(\"children_length : \" + str(len(formatted_json['document']['children'][element]['children'])))"
   ]
  },
  {
   "cell_type": "code",
   "execution_count": 1,
   "id": "860a6fd9",
   "metadata": {},
   "outputs": [],
   "source": [
    "# Before I keep going, what is Boilerplate, Mobile Components, and Dizzy Prototype v2\n",
    "# what is CANVAS?\n",
    "\n",
    "# Ok sounds like we want to drill down into Boilerplate\n",
    "\n",
    "### todo - how would we know that?"
   ]
  },
  {
   "cell_type": "code",
   "execution_count": 14,
   "id": "0e9cae96",
   "metadata": {},
   "outputs": [],
   "source": [
    "# first element in children\n",
    "element = 0 # boilerplate\n",
    "\n",
    "# print(formatted_json['document']['children'][element].keys())\n",
    "# print(\"id : \" + formatted_json['document']['children'][element]['id'])\n",
    "# print(\"name : \" + formatted_json['document']['children'][element]['name'])\n",
    "# print(\"type : \" + formatted_json['document']['children'][element]['type'])\n",
    "# print(\"children_data_type : \" + str(type(formatted_json['document']['children'][element]['children'])))\n",
    "# print(\"children_length : \" + str(len(formatted_json['document']['children'][element]['children'])))"
   ]
  },
  {
   "cell_type": "code",
   "execution_count": null,
   "id": "d84c6e9b",
   "metadata": {},
   "outputs": [],
   "source": [
    "### todo: implement graceful way to find Acorns"
   ]
  },
  {
   "cell_type": "code",
   "execution_count": 12,
   "id": "785fcada",
   "metadata": {},
   "outputs": [
    {
     "name": "stdout",
     "output_type": "stream",
     "text": [
      "Light_Theme_01\n",
      "Light_Theme_02\n",
      "Light_Theme_03\n",
      "Light_Theme_04\n",
      "Light_Theme_05\n",
      "Light_Theme_06\n",
      "Light_Theme_07\n",
      "Light_Theme_08\n",
      "Light_Theme_09\n",
      "Light_Theme_10\n",
      "Light_Theme_11\n",
      "Light_Theme_12\n",
      "Light_Theme_13\n",
      "Light_Theme_14\n",
      "Light_Theme_15\n",
      "Light_Theme_16\n",
      "Light_Theme_17\n",
      "Light_Theme_18\n",
      "Light_Theme_19\n",
      "Light_Theme_20\n",
      "Dark_Theme_01\n",
      "Dark_Theme_02\n",
      "Dark_Theme_03\n",
      "Dark_Theme_04\n",
      "Dark_Theme_05\n",
      "Dark_Theme_06\n",
      "Dark_Theme_07\n",
      "Dark_Theme_08\n",
      "Dark_Theme_09\n",
      "Dark_Theme_10\n",
      "Dark_Theme_11\n",
      "Dark_Theme_12\n",
      "Dark_Theme_13\n",
      "Dark_Theme_14\n",
      "Dark_Theme_15\n",
      "Dark_Theme_16\n",
      "Dark_Theme_17\n",
      "Dark_Theme_18\n",
      "Dark_Theme_19\n",
      "Dark_Theme_20\n",
      "Acorns\n",
      "Public\n",
      "Robinhood\n"
     ]
    }
   ],
   "source": [
    "for element in formatted_json['document']['children'][element]['children']:\n",
    "    print(element['name'])"
   ]
  },
  {
   "cell_type": "code",
   "execution_count": 22,
   "id": "a0bd64e9",
   "metadata": {},
   "outputs": [
    {
     "name": "stdout",
     "output_type": "stream",
     "text": [
      "dict_keys(['id', 'name', 'type', 'blendMode', 'children', 'absoluteBoundingBox', 'preserveRatio', 'constraints', 'clipsContent', 'background', 'fills', 'strokes', 'strokeWeight', 'strokeAlign', 'backgroundColor', 'exportSettings', 'effects'])\n",
      "id : 3349:13582\n",
      "name : Acorns\n",
      "type : FRAME\n",
      "blendMode : PASS_THROUGH\n",
      "absoluteBoundingBox : {'x': -401, 'y': -1323, 'width': 390, 'height': 844.47998046875}\n",
      "preserveRatio : True\n",
      "constraints : {'vertical': 'TOP', 'horizontal': 'LEFT'}\n",
      "clipsContent : True\n",
      "background : [{'blendMode': 'NORMAL', 'type': 'SOLID', 'color': {'r': 1, 'g': 1, 'b': 1, 'a': 1}}]\n",
      "fills : [{'blendMode': 'NORMAL', 'type': 'SOLID', 'color': {'r': 1, 'g': 1, 'b': 1, 'a': 1}}]\n",
      "strokes : []\n",
      "strokeWeight : 1\n",
      "strokeAlign : INSIDE\n",
      "backgroundColor : {'r': 1, 'g': 1, 'b': 1, 'a': 1}\n",
      "exportSettings : [{'suffix': '', 'format': 'PNG', 'constraint': {'type': 'SCALE', 'value': 1}}]\n",
      "effects : []\n"
     ]
    }
   ],
   "source": [
    "# what is in Acorns, wow, a lot!\n",
    "element = 0\n",
    "print(formatted_json['document']['children'][element]['children'][40].keys())\n",
    "for key_name in formatted_json['document']['children'][element]['children'][40].keys():\n",
    "    if key_name != \"children\":\n",
    "        print(key_name+ \" : \" + str(formatted_json['document']['children'][element]['children'][40][key_name]) )\n",
    "# print(\"id : \" + formatted_json['document']['children'][element]['id'])\n",
    "# print(\"name : \" + formatted_json['document']['children'][element]['name'])\n",
    "# print(\"type : \" + formatted_json['document']['children'][element]['type'])\n",
    "# print(\"children_data_type : \" + str(type(formatted_json['document']['children'][element]['children'])))\n",
    "# print(\"children_length : \" + str(len(formatted_json['document']['children'][element]['children'])))\n",
    "\n"
   ]
  },
  {
   "cell_type": "code",
   "execution_count": 23,
   "id": "4099bc36",
   "metadata": {},
   "outputs": [
    {
     "name": "stdout",
     "output_type": "stream",
     "text": [
      "children_data_type : <class 'list'>\n",
      "children_length : 11\n"
     ]
    }
   ],
   "source": [
    "print(\"children_data_type : \" + str(type(formatted_json['document']['children'][element]['children'][40]['children'])))\n",
    "print(\"children_length : \" + str(len(formatted_json['document']['children'][element]['children'][40]['children'])))"
   ]
  },
  {
   "cell_type": "code",
   "execution_count": 24,
   "id": "1cf37a5d",
   "metadata": {},
   "outputs": [
    {
     "name": "stdout",
     "output_type": "stream",
     "text": [
      "Button\n",
      "Swipe\n",
      "H1\n",
      "H2\n",
      "H3\n",
      "Input\n",
      "Input\n",
      "Logo\n",
      "Tertiary CTA\n",
      "Home Indicator\n",
      "Status Bar\n"
     ]
    }
   ],
   "source": [
    "for element in formatted_json['document']['children'][element]['children'][40]['children']:\n",
    "    print(element['name'])"
   ]
  },
  {
   "cell_type": "code",
   "execution_count": null,
   "id": "a877d0cd",
   "metadata": {},
   "outputs": [],
   "source": [
    "### todo: again, search and find \"button\" gracefully"
   ]
  },
  {
   "cell_type": "code",
   "execution_count": 28,
   "id": "0802a3ab",
   "metadata": {},
   "outputs": [
    {
     "name": "stdout",
     "output_type": "stream",
     "text": [
      "dict_keys(['id', 'name', 'type', 'blendMode', 'children', 'absoluteBoundingBox', 'constraints', 'clipsContent', 'background', 'fills', 'strokes', 'strokeWeight', 'strokeAlign', 'backgroundColor', 'layoutMode', 'counterAxisSizingMode', 'primaryAxisSizingMode', 'counterAxisAlignItems', 'primaryAxisAlignItems', 'effects', 'transitionNodeID', 'transitionDuration', 'transitionEasing', 'componentId'])\n",
      "id : 3349:13590\n",
      "name : Button\n",
      "type : INSTANCE\n",
      "blendMode : PASS_THROUGH\n",
      "absoluteBoundingBox : {'x': -380, 'y': -559, 'width': 350, 'height': 46}\n",
      "constraints : {'vertical': 'TOP', 'horizontal': 'LEFT'}\n",
      "clipsContent : True\n",
      "background : []\n",
      "fills : []\n",
      "strokes : []\n",
      "strokeWeight : 1\n",
      "strokeAlign : INSIDE\n",
      "backgroundColor : {'r': 0, 'g': 0, 'b': 0, 'a': 0}\n",
      "layoutMode : HORIZONTAL\n",
      "counterAxisSizingMode : FIXED\n",
      "primaryAxisSizingMode : FIXED\n",
      "counterAxisAlignItems : CENTER\n",
      "primaryAxisAlignItems : CENTER\n",
      "effects : []\n",
      "transitionNodeID : 3014:8922\n",
      "transitionDuration : 160\n",
      "transitionEasing : EASE_IN_AND_OUT\n",
      "componentId : 3010:10312\n"
     ]
    }
   ],
   "source": [
    "# lets look at the button\n",
    "element = 0\n",
    "print(formatted_json['document']['children'][element]['children'][40]['children'][0].keys())\n",
    "for key_name in formatted_json['document']['children'][element]['children'][40]['children'][0].keys():\n",
    "    if key_name != \"children\":\n",
    "        print(key_name+ \" : \" + str(formatted_json['document']['children'][element]['children'][40]['children'][0][key_name]) )"
   ]
  },
  {
   "cell_type": "code",
   "execution_count": null,
   "id": "1ad4361f",
   "metadata": {},
   "outputs": [],
   "source": []
  }
 ],
 "metadata": {
  "kernelspec": {
   "display_name": "Python 3 (ipykernel)",
   "language": "python",
   "name": "python3"
  },
  "language_info": {
   "codemirror_mode": {
    "name": "ipython",
    "version": 3
   },
   "file_extension": ".py",
   "mimetype": "text/x-python",
   "name": "python",
   "nbconvert_exporter": "python",
   "pygments_lexer": "ipython3",
   "version": "3.10.3"
  }
 },
 "nbformat": 4,
 "nbformat_minor": 5
}
