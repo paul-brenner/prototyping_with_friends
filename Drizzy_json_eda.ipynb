{
 "cells": [
  {
   "cell_type": "code",
   "execution_count": 6,
   "id": "d50d35a4",
   "metadata": {},
   "outputs": [],
   "source": [
    "import json\n",
    "formatted_json_path = 'drizzy_prototype_json.json'\n",
    "raw_json_path = 'drizzy_prototype_json_raw.json'\n",
    "with open(formatted_json_path, 'r') as json_file:\n",
    "    formatted_json = json.load(json_file,strict=False)\n"
   ]
  },
  {
   "cell_type": "code",
   "execution_count": 11,
   "id": "ae262520",
   "metadata": {},
   "outputs": [
    {
     "data": {
      "text/plain": [
       "dict_keys(['document', 'components', 'componentSets', 'schemaVersion', 'styles', 'name', 'lastModified', 'thumbnailUrl', 'version', 'role', 'editorType', 'linkAccess'])"
      ]
     },
     "execution_count": 11,
     "metadata": {},
     "output_type": "execute_result"
    }
   ],
   "source": [
    "# here is a bunch of stuff at the top level of the json output\n",
    "formatted_json.keys()"
   ]
  },
  {
   "cell_type": "code",
   "execution_count": 33,
   "id": "69780be9",
   "metadata": {},
   "outputs": [
    {
     "name": "stdout",
     "output_type": "stream",
     "text": [
      "dict_keys(['id', 'name', 'type', 'children'])\n",
      "id : 0:0\n",
      "name : Document\n",
      "type : DOCUMENT\n",
      "children_data_type : <class 'list'>\n",
      "children_length : 3\n"
     ]
    }
   ],
   "source": [
    "# assuming what we care about will be buried in document, so lets see what elements are in there\n",
    "print(formatted_json['document'].keys())\n",
    "print(\"id : \" + formatted_json['document']['id'])\n",
    "print(\"name : \" + formatted_json['document']['name'])\n",
    "print(\"type : \" + formatted_json['document']['type'])\n",
    "print(\"children_data_type : \" + str(type(formatted_json['document']['children'])))\n",
    "print(\"children_length : \" + str(len(formatted_json['document']['children'])))"
   ]
  },
  {
   "cell_type": "code",
   "execution_count": 36,
   "id": "3031090b",
   "metadata": {},
   "outputs": [
    {
     "name": "stdout",
     "output_type": "stream",
     "text": [
      "dict_keys(['id', 'name', 'type', 'children', 'backgroundColor', 'prototypeStartNodeID', 'flowStartingPoints', 'prototypeDevice', 'exportSettings'])\n",
      "id : 0:344\n",
      "name : Boilerplate\n",
      "type : CANVAS\n",
      "children_data_type : <class 'list'>\n",
      "children_length : 43\n"
     ]
    }
   ],
   "source": [
    "# first element in children\n",
    "element = 0\n",
    "print(formatted_json['document']['children'][element].keys())\n",
    "print(\"id : \" + formatted_json['document']['children'][element]['id'])\n",
    "print(\"name : \" + formatted_json['document']['children'][element]['name'])\n",
    "print(\"type : \" + formatted_json['document']['children'][element]['type'])\n",
    "print(\"children_data_type : \" + str(type(formatted_json['document']['children'][element]['children'])))\n",
    "print(\"children_length : \" + str(len(formatted_json['document']['children'][element]['children'])))"
   ]
  },
  {
   "cell_type": "code",
   "execution_count": 38,
   "id": "7954f683",
   "metadata": {},
   "outputs": [
    {
     "name": "stdout",
     "output_type": "stream",
     "text": [
      "dict_keys(['id', 'name', 'type', 'children', 'backgroundColor', 'prototypeStartNodeID', 'flowStartingPoints', 'prototypeDevice', 'exportSettings'])\n",
      "id : 0:417\n",
      "name : Mobile Components\n",
      "type : CANVAS\n",
      "children_data_type : <class 'list'>\n",
      "children_length : 16\n"
     ]
    }
   ],
   "source": [
    "# first element in children\n",
    "element = 1\n",
    "print(formatted_json['document']['children'][element].keys())\n",
    "print(\"id : \" + formatted_json['document']['children'][element]['id'])\n",
    "print(\"name : \" + formatted_json['document']['children'][element]['name'])\n",
    "print(\"type : \" + formatted_json['document']['children'][element]['type'])\n",
    "print(\"children_data_type : \" + str(type(formatted_json['document']['children'][element]['children'])))\n",
    "print(\"children_length : \" + str(len(formatted_json['document']['children'][element]['children'])))"
   ]
  },
  {
   "cell_type": "code",
   "execution_count": 37,
   "id": "b3c5f99d",
   "metadata": {},
   "outputs": [
    {
     "name": "stdout",
     "output_type": "stream",
     "text": [
      "dict_keys(['id', 'name', 'type', 'children', 'backgroundColor', 'prototypeStartNodeID', 'flowStartingPoints', 'prototypeDevice'])\n",
      "id : 3332:13579\n",
      "name : Dizzy Prototype v2\n",
      "type : CANVAS\n",
      "children_data_type : <class 'list'>\n",
      "children_length : 21\n"
     ]
    }
   ],
   "source": [
    "# first element in children\n",
    "element = 2\n",
    "print(formatted_json['document']['children'][element].keys())\n",
    "print(\"id : \" + formatted_json['document']['children'][element]['id'])\n",
    "print(\"name : \" + formatted_json['document']['children'][element]['name'])\n",
    "print(\"type : \" + formatted_json['document']['children'][element]['type'])\n",
    "print(\"children_data_type : \" + str(type(formatted_json['document']['children'][element]['children'])))\n",
    "print(\"children_length : \" + str(len(formatted_json['document']['children'][element]['children'])))"
   ]
  },
  {
   "cell_type": "code",
   "execution_count": 39,
   "id": "860a6fd9",
   "metadata": {},
   "outputs": [],
   "source": [
    "# Before I keep going, what is Boilerplate, Mobile Components, and Dizzy Prototype v2\n",
    "# what is CANVAS?"
   ]
  },
  {
   "cell_type": "code",
   "execution_count": null,
   "id": "0e9cae96",
   "metadata": {},
   "outputs": [],
   "source": []
  },
  {
   "cell_type": "code",
   "execution_count": null,
   "id": "785fcada",
   "metadata": {},
   "outputs": [],
   "source": []
  },
  {
   "cell_type": "code",
   "execution_count": null,
   "id": "a0bd64e9",
   "metadata": {},
   "outputs": [],
   "source": []
  }
 ],
 "metadata": {
  "kernelspec": {
   "display_name": "Python 3 (ipykernel)",
   "language": "python",
   "name": "python3"
  },
  "language_info": {
   "codemirror_mode": {
    "name": "ipython",
    "version": 3
   },
   "file_extension": ".py",
   "mimetype": "text/x-python",
   "name": "python",
   "nbconvert_exporter": "python",
   "pygments_lexer": "ipython3",
   "version": "3.10.3"
  }
 },
 "nbformat": 4,
 "nbformat_minor": 5
}
