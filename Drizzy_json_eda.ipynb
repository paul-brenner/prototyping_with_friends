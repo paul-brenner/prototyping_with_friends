{
 "cells": [
  {
   "cell_type": "code",
   "execution_count": 3,
   "id": "d50d35a4",
   "metadata": {},
   "outputs": [],
   "source": [
    "import json\n",
    "formatted_json_path = 'drizzy_prototype_json.json'\n",
    "raw_json_path = 'drizzy_prototype_json_raw.json'\n",
    "with open(formatted_json_path, 'r') as json_file:\n",
    "    formatted_json = json.load(json_file,strict=False)\n"
   ]
  },
  {
   "cell_type": "code",
   "execution_count": 11,
   "id": "ae262520",
   "metadata": {},
   "outputs": [
    {
     "data": {
      "text/plain": [
       "dict_keys(['document', 'components', 'componentSets', 'schemaVersion', 'styles', 'name', 'lastModified', 'thumbnailUrl', 'version', 'role', 'editorType', 'linkAccess'])"
      ]
     },
     "execution_count": 11,
     "metadata": {},
     "output_type": "execute_result"
    }
   ],
   "source": [
    "# here is a bunch of stuff at the top level of the json output\n",
    "formatted_json.keys()"
   ]
  },
  {
   "cell_type": "code",
   "execution_count": 33,
   "id": "69780be9",
   "metadata": {},
   "outputs": [
    {
     "name": "stdout",
     "output_type": "stream",
     "text": [
      "dict_keys(['id', 'name', 'type', 'children'])\n",
      "id : 0:0\n",
      "name : Document\n",
      "type : DOCUMENT\n",
      "children_data_type : <class 'list'>\n",
      "children_length : 3\n"
     ]
    }
   ],
   "source": [
    "# assuming what we care about will be buried in document, so lets see what elements are in there\n",
    "print(formatted_json['document'].keys())\n",
    "print(\"id : \" + formatted_json['document']['id'])\n",
    "print(\"name : \" + formatted_json['document']['name'])\n",
    "print(\"type : \" + formatted_json['document']['type'])\n",
    "print(\"children_data_type : \" + str(type(formatted_json['document']['children'])))\n",
    "print(\"children_length : \" + str(len(formatted_json['document']['children'])))"
   ]
  },
  {
   "cell_type": "code",
   "execution_count": 36,
   "id": "3031090b",
   "metadata": {},
   "outputs": [
    {
     "name": "stdout",
     "output_type": "stream",
     "text": [
      "dict_keys(['id', 'name', 'type', 'children', 'backgroundColor', 'prototypeStartNodeID', 'flowStartingPoints', 'prototypeDevice', 'exportSettings'])\n",
      "id : 0:344\n",
      "name : Boilerplate\n",
      "type : CANVAS\n",
      "children_data_type : <class 'list'>\n",
      "children_length : 43\n"
     ]
    }
   ],
   "source": [
    "# first element in children\n",
    "element = 0\n",
    "print(formatted_json['document']['children'][element].keys())\n",
    "print(\"id : \" + formatted_json['document']['children'][element]['id'])\n",
    "print(\"name : \" + formatted_json['document']['children'][element]['name'])\n",
    "print(\"type : \" + formatted_json['document']['children'][element]['type'])\n",
    "print(\"children_data_type : \" + str(type(formatted_json['document']['children'][element]['children'])))\n",
    "print(\"children_length : \" + str(len(formatted_json['document']['children'][element]['children'])))"
   ]
  },
  {
   "cell_type": "code",
   "execution_count": 38,
   "id": "7954f683",
   "metadata": {},
   "outputs": [
    {
     "name": "stdout",
     "output_type": "stream",
     "text": [
      "dict_keys(['id', 'name', 'type', 'children', 'backgroundColor', 'prototypeStartNodeID', 'flowStartingPoints', 'prototypeDevice', 'exportSettings'])\n",
      "id : 0:417\n",
      "name : Mobile Components\n",
      "type : CANVAS\n",
      "children_data_type : <class 'list'>\n",
      "children_length : 16\n"
     ]
    }
   ],
   "source": [
    "# first element in children\n",
    "element = 1\n",
    "print(formatted_json['document']['children'][element].keys())\n",
    "print(\"id : \" + formatted_json['document']['children'][element]['id'])\n",
    "print(\"name : \" + formatted_json['document']['children'][element]['name'])\n",
    "print(\"type : \" + formatted_json['document']['children'][element]['type'])\n",
    "print(\"children_data_type : \" + str(type(formatted_json['document']['children'][element]['children'])))\n",
    "print(\"children_length : \" + str(len(formatted_json['document']['children'][element]['children'])))"
   ]
  },
  {
   "cell_type": "code",
   "execution_count": 37,
   "id": "b3c5f99d",
   "metadata": {},
   "outputs": [
    {
     "name": "stdout",
     "output_type": "stream",
     "text": [
      "dict_keys(['id', 'name', 'type', 'children', 'backgroundColor', 'prototypeStartNodeID', 'flowStartingPoints', 'prototypeDevice'])\n",
      "id : 3332:13579\n",
      "name : Dizzy Prototype v2\n",
      "type : CANVAS\n",
      "children_data_type : <class 'list'>\n",
      "children_length : 21\n"
     ]
    }
   ],
   "source": [
    "# first element in children\n",
    "element = 2\n",
    "print(formatted_json['document']['children'][element].keys())\n",
    "print(\"id : \" + formatted_json['document']['children'][element]['id'])\n",
    "print(\"name : \" + formatted_json['document']['children'][element]['name'])\n",
    "print(\"type : \" + formatted_json['document']['children'][element]['type'])\n",
    "print(\"children_data_type : \" + str(type(formatted_json['document']['children'][element]['children'])))\n",
    "print(\"children_length : \" + str(len(formatted_json['document']['children'][element]['children'])))"
   ]
  },
  {
   "cell_type": "code",
   "execution_count": 1,
   "id": "860a6fd9",
   "metadata": {},
   "outputs": [],
   "source": [
    "# Before I keep going, what is Boilerplate, Mobile Components, and Dizzy Prototype v2\n",
    "# what is CANVAS?\n",
    "\n",
    "# Ok sounds like we want to drill down into Boilerplate\n",
    "\n",
    "### todo - how would we know that?"
   ]
  },
  {
   "cell_type": "code",
   "execution_count": 14,
   "id": "0e9cae96",
   "metadata": {},
   "outputs": [],
   "source": [
    "# first element in children\n",
    "element = 0 # boilerplate\n",
    "\n",
    "# print(formatted_json['document']['children'][element].keys())\n",
    "# print(\"id : \" + formatted_json['document']['children'][element]['id'])\n",
    "# print(\"name : \" + formatted_json['document']['children'][element]['name'])\n",
    "# print(\"type : \" + formatted_json['document']['children'][element]['type'])\n",
    "# print(\"children_data_type : \" + str(type(formatted_json['document']['children'][element]['children'])))\n",
    "# print(\"children_length : \" + str(len(formatted_json['document']['children'][element]['children'])))"
   ]
  },
  {
   "cell_type": "code",
   "execution_count": null,
   "id": "faa24dce",
   "metadata": {},
   "outputs": [],
   "source": [
    "### todo: implement graceful way to find Acorns"
   ]
  },
  {
   "cell_type": "code",
   "execution_count": 12,
   "id": "785fcada",
   "metadata": {},
   "outputs": [
    {
     "name": "stdout",
     "output_type": "stream",
     "text": [
      "Light_Theme_01\n",
      "Light_Theme_02\n",
      "Light_Theme_03\n",
      "Light_Theme_04\n",
      "Light_Theme_05\n",
      "Light_Theme_06\n",
      "Light_Theme_07\n",
      "Light_Theme_08\n",
      "Light_Theme_09\n",
      "Light_Theme_10\n",
      "Light_Theme_11\n",
      "Light_Theme_12\n",
      "Light_Theme_13\n",
      "Light_Theme_14\n",
      "Light_Theme_15\n",
      "Light_Theme_16\n",
      "Light_Theme_17\n",
      "Light_Theme_18\n",
      "Light_Theme_19\n",
      "Light_Theme_20\n",
      "Dark_Theme_01\n",
      "Dark_Theme_02\n",
      "Dark_Theme_03\n",
      "Dark_Theme_04\n",
      "Dark_Theme_05\n",
      "Dark_Theme_06\n",
      "Dark_Theme_07\n",
      "Dark_Theme_08\n",
      "Dark_Theme_09\n",
      "Dark_Theme_10\n",
      "Dark_Theme_11\n",
      "Dark_Theme_12\n",
      "Dark_Theme_13\n",
      "Dark_Theme_14\n",
      "Dark_Theme_15\n",
      "Dark_Theme_16\n",
      "Dark_Theme_17\n",
      "Dark_Theme_18\n",
      "Dark_Theme_19\n",
      "Dark_Theme_20\n",
      "Acorns\n",
      "Public\n",
      "Robinhood\n"
     ]
    }
   ],
   "source": [
    "for element in formatted_json['document']['children'][element]['children']:\n",
    "    print(element['name'])"
   ]
  },
  {
   "cell_type": "code",
   "execution_count": 22,
   "id": "a0bd64e9",
   "metadata": {},
   "outputs": [
    {
     "name": "stdout",
     "output_type": "stream",
     "text": [
      "dict_keys(['id', 'name', 'type', 'blendMode', 'children', 'absoluteBoundingBox', 'preserveRatio', 'constraints', 'clipsContent', 'background', 'fills', 'strokes', 'strokeWeight', 'strokeAlign', 'backgroundColor', 'exportSettings', 'effects'])\n",
      "id : 3349:13582\n",
      "name : Acorns\n",
      "type : FRAME\n",
      "blendMode : PASS_THROUGH\n",
      "absoluteBoundingBox : {'x': -401, 'y': -1323, 'width': 390, 'height': 844.47998046875}\n",
      "preserveRatio : True\n",
      "constraints : {'vertical': 'TOP', 'horizontal': 'LEFT'}\n",
      "clipsContent : True\n",
      "background : [{'blendMode': 'NORMAL', 'type': 'SOLID', 'color': {'r': 1, 'g': 1, 'b': 1, 'a': 1}}]\n",
      "fills : [{'blendMode': 'NORMAL', 'type': 'SOLID', 'color': {'r': 1, 'g': 1, 'b': 1, 'a': 1}}]\n",
      "strokes : []\n",
      "strokeWeight : 1\n",
      "strokeAlign : INSIDE\n",
      "backgroundColor : {'r': 1, 'g': 1, 'b': 1, 'a': 1}\n",
      "exportSettings : [{'suffix': '', 'format': 'PNG', 'constraint': {'type': 'SCALE', 'value': 1}}]\n",
      "effects : []\n"
     ]
    }
   ],
   "source": [
    "# what is in Acorns, wow, a lot!\n",
    "element = 0\n",
    "print(formatted_json['document']['children'][element]['children'][40].keys())\n",
    "for key_name in formatted_json['document']['children'][element]['children'][40].keys():\n",
    "    if key_name != \"children\":\n",
    "        print(key_name+ \" : \" + str(formatted_json['document']['children'][element]['children'][40][key_name]) )\n",
    "# print(\"id : \" + formatted_json['document']['children'][element]['id'])\n",
    "# print(\"name : \" + formatted_json['document']['children'][element]['name'])\n",
    "# print(\"type : \" + formatted_json['document']['children'][element]['type'])\n",
    "# print(\"children_data_type : \" + str(type(formatted_json['document']['children'][element]['children'])))\n",
    "# print(\"children_length : \" + str(len(formatted_json['document']['children'][element]['children'])))\n",
    "\n"
   ]
  },
  {
   "cell_type": "code",
   "execution_count": 23,
   "id": "780ada9a",
   "metadata": {},
   "outputs": [
    {
     "name": "stdout",
     "output_type": "stream",
     "text": [
      "children_data_type : <class 'list'>\n",
      "children_length : 11\n"
     ]
    }
   ],
   "source": [
    "print(\"children_data_type : \" + str(type(formatted_json['document']['children'][element]['children'][40]['children'])))\n",
    "print(\"children_length : \" + str(len(formatted_json['document']['children'][element]['children'][40]['children'])))"
   ]
  },
  {
   "cell_type": "code",
   "execution_count": 24,
   "id": "d62ad401",
   "metadata": {},
   "outputs": [
    {
     "name": "stdout",
     "output_type": "stream",
     "text": [
      "Button\n",
      "Swipe\n",
      "H1\n",
      "H2\n",
      "H3\n",
      "Input\n",
      "Input\n",
      "Logo\n",
      "Tertiary CTA\n",
      "Home Indicator\n",
      "Status Bar\n"
     ]
    }
   ],
   "source": [
    "for element in formatted_json['document']['children'][element]['children'][40]['children']:\n",
    "    print(element['name'])"
   ]
  },
  {
   "cell_type": "code",
   "execution_count": null,
   "id": "85f68a9b",
   "metadata": {},
   "outputs": [],
   "source": [
    "### todo: again, search and find \"button\" gracefully"
   ]
  },
  {
   "cell_type": "code",
   "execution_count": 28,
   "id": "b0280f35",
   "metadata": {},
   "outputs": [
    {
     "name": "stdout",
     "output_type": "stream",
     "text": [
      "dict_keys(['id', 'name', 'type', 'blendMode', 'children', 'absoluteBoundingBox', 'constraints', 'clipsContent', 'background', 'fills', 'strokes', 'strokeWeight', 'strokeAlign', 'backgroundColor', 'layoutMode', 'counterAxisSizingMode', 'primaryAxisSizingMode', 'counterAxisAlignItems', 'primaryAxisAlignItems', 'effects', 'transitionNodeID', 'transitionDuration', 'transitionEasing', 'componentId'])\n",
      "id : 3349:13590\n",
      "name : Button\n",
      "type : INSTANCE\n",
      "blendMode : PASS_THROUGH\n",
      "absoluteBoundingBox : {'x': -380, 'y': -559, 'width': 350, 'height': 46}\n",
      "constraints : {'vertical': 'TOP', 'horizontal': 'LEFT'}\n",
      "clipsContent : True\n",
      "background : []\n",
      "fills : []\n",
      "strokes : []\n",
      "strokeWeight : 1\n",
      "strokeAlign : INSIDE\n",
      "backgroundColor : {'r': 0, 'g': 0, 'b': 0, 'a': 0}\n",
      "layoutMode : HORIZONTAL\n",
      "counterAxisSizingMode : FIXED\n",
      "primaryAxisSizingMode : FIXED\n",
      "counterAxisAlignItems : CENTER\n",
      "primaryAxisAlignItems : CENTER\n",
      "effects : []\n",
      "transitionNodeID : 3014:8922\n",
      "transitionDuration : 160\n",
      "transitionEasing : EASE_IN_AND_OUT\n",
      "componentId : 3010:10312\n"
     ]
    }
   ],
   "source": [
    "# lets look at the button\n",
    "element = 0\n",
    "print(formatted_json['document']['children'][element]['children'][40]['children'][0].keys())\n",
    "for key_name in formatted_json['document']['children'][element]['children'][40]['children'][0].keys():\n",
    "    if key_name != \"children\":\n",
    "        print(key_name+ \" : \" + str(formatted_json['document']['children'][element]['children'][40]['children'][0][key_name]) )"
   ]
  },
  {
   "cell_type": "code",
   "execution_count": null,
   "id": "74a7a332",
   "metadata": {},
   "outputs": [],
   "source": []
  }
 ],
 "metadata": {
  "kernelspec": {
   "display_name": "Python 3 (ipykernel)",
   "language": "python",
   "name": "python3"
  },
  "language_info": {
   "codemirror_mode": {
    "name": "ipython",
    "version": 3
   },
   "file_extension": ".py",
   "mimetype": "text/x-python",
   "name": "python",
   "nbconvert_exporter": "python",
   "pygments_lexer": "ipython3",
   "version": "3.10.3"
  }
 },
 "nbformat": 4,
 "nbformat_minor": 5
}
