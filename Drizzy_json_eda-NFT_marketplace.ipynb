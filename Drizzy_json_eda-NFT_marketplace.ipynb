{
 "cells": [
  {
   "cell_type": "code",
   "execution_count": 21,
   "id": "503774b5",
   "metadata": {},
   "outputs": [],
   "source": [
    "# can we just extract and analyze all the frames\n",
    "# what if we use prototype link instead\n",
    "# is there caching that could slow down updates like in nbviewer"
   ]
  },
  {
   "cell_type": "code",
   "execution_count": 22,
   "id": "5e0671c7",
   "metadata": {},
   "outputs": [],
   "source": [
    "json_path = 'json_files/NFT_Marketplace.json'"
   ]
  },
  {
   "cell_type": "code",
   "execution_count": 23,
   "id": "e0a2dc52",
   "metadata": {},
   "outputs": [
    {
     "name": "stdout",
     "output_type": "stream",
     "text": [
      "windows-1250\n"
     ]
    }
   ],
   "source": [
    "# encoding detection\n",
    "from charset_normalizer import detect\n",
    "with open(json_path, 'rb') as json_file:\n",
    "    data = json_file.read()\n",
    "    print(detect(data).get(\"encoding\"))"
   ]
  },
  {
   "cell_type": "code",
   "execution_count": 24,
   "id": "c1095dcc",
   "metadata": {},
   "outputs": [],
   "source": [
    "from charset_normalizer import from_path\n",
    "import json\n",
    "results = from_path(json_path)\n",
    "formatted_json = json.loads(str(results.best()),strict=False)\n",
    "\n",
    "# Method that may fail on non utf-8 characters\n",
    "# with open(json_path, 'r') as json_file:\n",
    "#     formatted_json = json.load(json_file,strict=False)"
   ]
  },
  {
   "cell_type": "code",
   "execution_count": null,
   "id": "bb318a0e",
   "metadata": {},
   "outputs": [],
   "source": []
  },
  {
   "cell_type": "code",
   "execution_count": null,
   "id": "968bde71",
   "metadata": {},
   "outputs": [],
   "source": []
  },
  {
   "cell_type": "code",
   "execution_count": 25,
   "id": "ae262520",
   "metadata": {},
   "outputs": [
    {
     "data": {
      "text/plain": [
       "dict_keys(['document', 'components', 'componentSets', 'schemaVersion', 'styles', 'name', 'lastModified', 'thumbnailUrl', 'version', 'role', 'editorType', 'linkAccess'])"
      ]
     },
     "execution_count": 25,
     "metadata": {},
     "output_type": "execute_result"
    }
   ],
   "source": [
    "# here is a bunch of stuff at the top level of the json output\n",
    "formatted_json.keys()"
   ]
  },
  {
   "cell_type": "code",
   "execution_count": 26,
   "id": "69780be9",
   "metadata": {},
   "outputs": [
    {
     "name": "stdout",
     "output_type": "stream",
     "text": [
      "dict_keys(['id', 'name', 'type', 'children'])\n",
      "id : 0:0\n",
      "name : Document\n",
      "type : DOCUMENT\n",
      "children_data_type : <class 'list'>\n",
      "children_length : 5\n"
     ]
    }
   ],
   "source": [
    "# assuming what we care about will be buried in document, so lets see what elements are in there\n",
    "print(formatted_json['document'].keys())\n",
    "print(\"id : \" + formatted_json['document']['id'])\n",
    "print(\"name : \" + formatted_json['document']['name'])\n",
    "print(\"type : \" + formatted_json['document']['type'])\n",
    "print(\"children_data_type : \" + str(type(formatted_json['document']['children'])))\n",
    "print(\"children_length : \" + str(len(formatted_json['document']['children'])))"
   ]
  },
  {
   "cell_type": "code",
   "execution_count": 27,
   "id": "3031090b",
   "metadata": {},
   "outputs": [
    {
     "name": "stdout",
     "output_type": "stream",
     "text": [
      "dict_keys(['id', 'name', 'type', 'children', 'backgroundColor', 'prototypeStartNodeID', 'flowStartingPoints', 'prototypeDevice'])\n",
      "id : 31:4\n",
      "name : <¨ Design\n",
      "type : CANVAS\n",
      "children_data_type : <class 'list'>\n",
      "children_length : 37\n"
     ]
    }
   ],
   "source": [
    "# first element in children\n",
    "element = 0\n",
    "print(formatted_json['document']['children'][element].keys())\n",
    "print(\"id : \" + formatted_json['document']['children'][element]['id'])\n",
    "print(\"name : \" + formatted_json['document']['children'][element]['name'])\n",
    "print(\"type : \" + formatted_json['document']['children'][element]['type'])\n",
    "print(\"children_data_type : \" + str(type(formatted_json['document']['children'][element]['children'])))\n",
    "print(\"children_length : \" + str(len(formatted_json['document']['children'][element]['children'])))"
   ]
  },
  {
   "cell_type": "code",
   "execution_count": 36,
   "id": "7954f683",
   "metadata": {},
   "outputs": [
    {
     "name": "stdout",
     "output_type": "stream",
     "text": [
      "Element number : 0\n",
      "dict_keys(['id', 'name', 'type', 'children', 'backgroundColor', 'prototypeStartNodeID', 'flowStartingPoints', 'prototypeDevice'])\n",
      "id : 31:4\n",
      "name : <¨ Design\n",
      "type : CANVAS\n",
      "children_data_type : <class 'list'>\n",
      "children_length : 37\n",
      "------------------END_Element----------------\n",
      "Element number : 1\n",
      "dict_keys(['id', 'name', 'type', 'children', 'backgroundColor', 'prototypeStartNodeID', 'flowStartingPoints', 'prototypeDevice'])\n",
      "id : 3:12\n",
      "name : --------------------------------------\n",
      "type : CANVAS\n",
      "children_data_type : <class 'list'>\n",
      "children_length : 0\n",
      "------------------END_Element----------------\n",
      "Element number : 2\n",
      "dict_keys(['id', 'name', 'type', 'children', 'backgroundColor', 'prototypeStartNodeID', 'flowStartingPoints', 'prototypeDevice'])\n",
      "id : 12:27\n",
      "name : >é Component\n",
      "type : CANVAS\n",
      "children_data_type : <class 'list'>\n",
      "children_length : 4\n",
      "------------------END_Element----------------\n",
      "Element number : 3\n",
      "dict_keys(['id', 'name', 'type', 'children', 'backgroundColor', 'prototypeStartNodeID', 'flowStartingPoints', 'prototypeDevice'])\n",
      "id : 3:4\n",
      "name : --------------------------------------\n",
      "type : CANVAS\n",
      "children_data_type : <class 'list'>\n",
      "children_length : 0\n",
      "------------------END_Element----------------\n",
      "Element number : 4\n",
      "dict_keys(['id', 'name', 'type', 'children', 'backgroundColor', 'prototypeStartNodeID', 'flowStartingPoints', 'prototypeDevice'])\n",
      "id : 0:1\n",
      "name : <\b Cover\n",
      "type : CANVAS\n",
      "children_data_type : <class 'list'>\n",
      "children_length : 1\n",
      "------------------END_Element----------------\n"
     ]
    }
   ],
   "source": [
    "# iterate through elements in first batch of children\n",
    "for idx,child_element in enumerate(formatted_json['document']['children']):\n",
    "    print(\"Element number : \"+str(idx))\n",
    "    print(child_element.keys())\n",
    "    print(\"id : \" + child_element['id'])\n",
    "    print(\"name : \" + child_element['name'])\n",
    "    print(\"type : \" + child_element['type'])\n",
    "    print(\"children_data_type : \" + str(type(child_element['children'])))\n",
    "    print(\"children_length : \" + str(len(child_element['children'])))\n",
    "    print(\"------------------END_Element----------------\")"
   ]
  },
  {
   "cell_type": "markdown",
   "id": "2c0c7b74",
   "metadata": {},
   "source": [
    "### Note\n",
    "Well these names are confusing an unhelpful, but they all contain children so I guess dig into all of them"
   ]
  },
  {
   "cell_type": "code",
   "execution_count": 37,
   "id": "b3c5f99d",
   "metadata": {},
   "outputs": [
    {
     "name": "stdout",
     "output_type": "stream",
     "text": [
      "Element number : 0 -  name : <¨ Design\n",
      "Element number : 1 -  name : --------------------------------------\n",
      "Element number : 2 -  name : >é Component\n",
      "Element number : 3 -  name : --------------------------------------\n",
      "Element number : 4 -  name : <\b Cover\n"
     ]
    }
   ],
   "source": [
    "# iterate through elements in first batch of children\n",
    "for idx,child_element in enumerate(formatted_json['document']['children']):\n",
    "    print(\"Element number : \"+str(idx) + \" -  name : \" + child_element['name'])"
   ]
  },
  {
   "cell_type": "code",
   "execution_count": 30,
   "id": "860a6fd9",
   "metadata": {},
   "outputs": [],
   "source": [
    "        "
   ]
  },
  {
   "cell_type": "code",
   "execution_count": 31,
   "id": "0e9cae96",
   "metadata": {},
   "outputs": [],
   "source": []
  },
  {
   "cell_type": "code",
   "execution_count": 32,
   "id": "d84c6e9b",
   "metadata": {},
   "outputs": [],
   "source": []
  },
  {
   "cell_type": "code",
   "execution_count": 33,
   "id": "785fcada",
   "metadata": {},
   "outputs": [
    {
     "name": "stdout",
     "output_type": "stream",
     "text": [
      "1. Onboarding-1\n",
      "1. Onboarding-2\n",
      "1. Onboarding-3\n",
      "2. Start Screen\n",
      "3. Connect with wallet\n",
      "5. Setup Profile\n",
      "6. Welcome Page\n",
      "27. Bid Finish\n",
      "32. Upload Items-5\n",
      "35. Items ready for sell\n",
      "26. Bid Details\n",
      "28. Upload Items\n",
      "29. Upload Items-2\n",
      "30. Upload Items-3\n",
      "31. Upload Items-4\n",
      "7. Homepage\n",
      "8. Search Page\n",
      "9. Search Page-Active\n",
      "11. Stats Page-Rankings\n",
      "12. Stats Page-Activity\n",
      "21. NFT items\n",
      "24. Collections-Items\n",
      "10. Search Page-Collections\n",
      "13. Profile Pages\n",
      "14. Profile Pages-2\n",
      "15. Profile Pages-3\n",
      "16. Profile Pages-4\n",
      "17. Profile Pages-5\n",
      "18. Profile Pages-6\n",
      "19. Profile Pages-7\n",
      "25. Collections-Activity\n",
      "23. NFT items-Preview NFT\n",
      "22. NFT items-Details\n",
      "4. Enter address ethereum\n",
      "33. Sell NFT\n",
      "34. Sell nft-details\n",
      "20. Edit Profile\n"
     ]
    }
   ],
   "source": [
    "for element in formatted_json['document']['children'][element]['children']:\n",
    "    print(element['name'])"
   ]
  },
  {
   "cell_type": "code",
   "execution_count": 47,
   "id": "a0bd64e9",
   "metadata": {},
   "outputs": [
    {
     "name": "stdout",
     "output_type": "stream",
     "text": [
      "dict_keys(['id', 'name', 'type', 'blendMode', 'children', 'absoluteBoundingBox', 'constraints', 'clipsContent', 'background', 'fills', 'strokes', 'strokeWeight', 'strokeAlign', 'backgroundColor', 'styles', 'layoutGrids', 'effects'])\n",
      "id : 172:48\n",
      "name : 1. Onboarding-1\n",
      "type : FRAME\n",
      "blendMode : PASS_THROUGH\n",
      "absoluteBoundingBox : {'x': -590, 'y': 468, 'width': 360, 'height': 800}\n",
      "constraints : {'vertical': 'TOP', 'horizontal': 'LEFT'}\n",
      "clipsContent : True\n",
      "background : [{'blendMode': 'NORMAL', 'type': 'SOLID', 'color': {'r': 0.08235294371843338, 'g': 0.125490203499794, 'b': 0.16862745583057404, 'a': 1}}]\n",
      "fills : [{'blendMode': 'NORMAL', 'type': 'SOLID', 'color': {'r': 0.08235294371843338, 'g': 0.125490203499794, 'b': 0.16862745583057404, 'a': 1}}]\n",
      "strokes : []\n",
      "strokeWeight : 1\n",
      "strokeAlign : INSIDE\n",
      "backgroundColor : {'r': 0.08235294371843338, 'g': 0.125490203499794, 'b': 0.16862745583057404, 'a': 1}\n",
      "styles : {'fills': '175:65', 'grid': '103:182'}\n",
      "layoutGrids : [{'pattern': 'COLUMNS', 'sectionSize': 66, 'visible': True, 'color': {'r': 1, 'g': 1, 'b': 1, 'a': 0.10000000149011612}, 'alignment': 'STRETCH', 'gutterSize': 16, 'offset': 24, 'count': 4}]\n",
      "effects : []\n"
     ]
    }
   ],
   "source": [
    "# what is in Acorns, wow, a lot!\n",
    "element = 0\n",
    "child_element_2 = 0\n",
    "print(formatted_json['document']['children'][element]['children'][child_element_2].keys())\n",
    "for key_name in formatted_json['document']['children'][element]['children'][child_element_2].keys():\n",
    "    if key_name != \"children\":\n",
    "        print(key_name+ \" : \" + str(formatted_json['document']['children'][element]['children'][child_element_2][key_name]) )\n",
    "# print(\"id : \" + formatted_json['document']['children'][element]['id'])\n",
    "# print(\"name : \" + formatted_json['document']['children'][element]['name'])\n",
    "# print(\"type : \" + formatted_json['document']['children'][element]['type'])\n",
    "# print(\"children_data_type : \" + str(type(formatted_json['document']['children'][element]['children'])))\n",
    "# print(\"children_length : \" + str(len(formatted_json['document']['children'][element]['children'])))\n",
    "\n"
   ]
  },
  {
   "cell_type": "code",
   "execution_count": 44,
   "id": "4099bc36",
   "metadata": {},
   "outputs": [
    {
     "name": "stdout",
     "output_type": "stream",
     "text": [
      "children_data_type : <class 'list'>\n",
      "children_length : 2\n"
     ]
    }
   ],
   "source": [
    "print(\"children_data_type : \" + str(type(formatted_json['document']['children'][element]['children'][child_element_2]['children'])))\n",
    "print(\"children_length : \" + str(len(formatted_json['document']['children'][element]['children'][child_element_2]['children'])))"
   ]
  },
  {
   "cell_type": "code",
   "execution_count": 45,
   "id": "1cf37a5d",
   "metadata": {},
   "outputs": [
    {
     "name": "stdout",
     "output_type": "stream",
     "text": [
      "Frame 3\n",
      "image 3\n"
     ]
    }
   ],
   "source": [
    "for element in formatted_json['document']['children'][element]['children'][child_element_2]['children']:\n",
    "    print(element['name'])"
   ]
  },
  {
   "cell_type": "code",
   "execution_count": null,
   "id": "a877d0cd",
   "metadata": {},
   "outputs": [],
   "source": [
    "### todo: again, search and find \"button\" gracefully"
   ]
  },
  {
   "cell_type": "code",
   "execution_count": 48,
   "id": "0802a3ab",
   "metadata": {},
   "outputs": [
    {
     "name": "stdout",
     "output_type": "stream",
     "text": [
      "dict_keys(['id', 'name', 'type', 'blendMode', 'children', 'absoluteBoundingBox', 'constraints', 'clipsContent', 'background', 'fills', 'strokes', 'cornerRadius', 'rectangleCornerRadii', 'strokeWeight', 'strokeAlign', 'backgroundColor', 'styles', 'layoutMode', 'counterAxisSizingMode', 'itemSpacing', 'primaryAxisSizingMode', 'counterAxisAlignItems', 'paddingLeft', 'paddingRight', 'paddingTop', 'paddingBottom', 'effects'])\n",
      "id : 175:248\n",
      "name : Frame 3\n",
      "type : FRAME\n",
      "blendMode : PASS_THROUGH\n",
      "absoluteBoundingBox : {'x': -590, 'y': 901, 'width': 360, 'height': 367}\n",
      "constraints : {'vertical': 'TOP', 'horizontal': 'LEFT'}\n",
      "clipsContent : False\n",
      "background : [{'blendMode': 'NORMAL', 'type': 'SOLID', 'color': {'r': 0.14509804546833038, 'g': 0.20000000298023224, 'b': 0.2549019753932953, 'a': 1}}]\n",
      "fills : [{'blendMode': 'NORMAL', 'type': 'SOLID', 'color': {'r': 0.14509804546833038, 'g': 0.20000000298023224, 'b': 0.2549019753932953, 'a': 1}}]\n",
      "strokes : []\n",
      "cornerRadius : 50\n",
      "rectangleCornerRadii : [30, 30, 0, 0]\n",
      "strokeWeight : 1\n",
      "strokeAlign : INSIDE\n",
      "backgroundColor : {'r': 0.14509804546833038, 'g': 0.20000000298023224, 'b': 0.2549019753932953, 'a': 1}\n",
      "styles : {'fills': '175:64'}\n",
      "layoutMode : VERTICAL\n",
      "counterAxisSizingMode : FIXED\n",
      "itemSpacing : 80\n",
      "primaryAxisSizingMode : FIXED\n",
      "counterAxisAlignItems : CENTER\n",
      "paddingLeft : 16\n",
      "paddingRight : 16\n",
      "paddingTop : 42\n",
      "paddingBottom : 42\n",
      "effects : []\n"
     ]
    }
   ],
   "source": [
    "# lets look at the button\n",
    "child_element_1 = 0\n",
    "child_element_2 = 0\n",
    "child_element_3 = 0\n",
    "\n",
    "print(formatted_json['document']['children'][child_element_1]['children'][child_element_2]['children'][child_element_3].keys())\n",
    "for key_name in formatted_json['document']['children'][child_element_1]['children'][child_element_2]['children'][child_element_3].keys():\n",
    "    if key_name != \"children\":\n",
    "        print(key_name+ \" : \" + str(formatted_json['document']['children'][child_element_1]['children'][child_element_2]['children'][child_element_3][key_name]) )"
   ]
  },
  {
   "cell_type": "code",
   "execution_count": 71,
   "id": "f74c1edf",
   "metadata": {},
   "outputs": [
    {
     "name": "stdout",
     "output_type": "stream",
     "text": [
      "dict_keys(['id', 'name', 'type', 'blendMode', 'children', 'absoluteBoundingBox', 'constraints', 'layoutAlign', 'layoutGrow', 'clipsContent', 'background', 'fills', 'strokes', 'strokeWeight', 'strokeAlign', 'backgroundColor', 'layoutMode', 'itemSpacing', 'counterAxisAlignItems', 'primaryAxisAlignItems', 'effects'])\n",
      "id : 175:247\n",
      "name : Text n Node\n",
      "type : FRAME\n",
      "blendMode : PASS_THROUGH\n",
      "absoluteBoundingBox : {'x': -571.5, 'y': 943, 'width': 323, 'height': 149}\n",
      "constraints : {'vertical': 'TOP', 'horizontal': 'LEFT'}\n",
      "layoutAlign : INHERIT\n",
      "layoutGrow : 0\n",
      "clipsContent : False\n",
      "background : []\n",
      "fills : []\n",
      "strokes : []\n",
      "strokeWeight : 1\n",
      "strokeAlign : INSIDE\n",
      "backgroundColor : {'r': 0, 'g': 0, 'b': 0, 'a': 0}\n",
      "layoutMode : VERTICAL\n",
      "itemSpacing : 24\n",
      "counterAxisAlignItems : CENTER\n",
      "primaryAxisAlignItems : CENTER\n",
      "effects : []\n"
     ]
    }
   ],
   "source": [
    "# lets look at the button\n",
    "child_element_1 = 0\n",
    "child_element_2 = 0\n",
    "child_element_3 = 0\n",
    "child_element_4 = 0\n",
    "\n",
    "print(formatted_json['document']['children'][child_element_1]['children'][child_element_2]['children'][child_element_3]['children'][child_element_4].keys())\n",
    "for key_name in formatted_json['document']['children'][child_element_1]['children'][child_element_2]['children'][child_element_3]['children'][child_element_4].keys():\n",
    "    if key_name != \"children\":\n",
    "        print(key_name+ \" : \" + str(formatted_json['document']['children'][child_element_1]['children'][child_element_2]['children'][child_element_3]['children'][child_element_4][key_name]) )"
   ]
  },
  {
   "cell_type": "code",
   "execution_count": null,
   "id": "1ad4361f",
   "metadata": {},
   "outputs": [],
   "source": [
    "# iterate through everything and print? this would just recreate the full json\n",
    "for idx,child_element in enumerate(formatted_json['document']['children']):\n",
    "    print(\"Element number : \"+str(idx) + \" -  name : \" + child_element['name'])\n",
    "    for idy,child_element_2 in enumerate(child_element['children']):"
   ]
  },
  {
   "cell_type": "code",
   "execution_count": 51,
   "id": "857cc80d",
   "metadata": {},
   "outputs": [],
   "source": [
    "def return_keys(child_element,key_name):\n",
    "    try:\n",
    "        print(child_element[key_name])\n",
    "    except KeyError:\n",
    "        pass\n",
    "    return"
   ]
  },
  {
   "cell_type": "code",
   "execution_count": 64,
   "id": "53664983",
   "metadata": {},
   "outputs": [],
   "source": [
    "def iterate_children(child_list,key_name):\n",
    "    try:\n",
    "        for idx,child_element in enumerate(child_list['children']):\n",
    "            try:\n",
    "                print(\"Element number : \"+str(idx) + \" -  name : \" + child_element[key_name])\n",
    "            except KeyError:\n",
    "                pass\n",
    "            iterate_children(child_element,key_name)\n",
    "    except KeyError:\n",
    "        pass\n",
    "    return"
   ]
  },
  {
   "cell_type": "code",
   "execution_count": 70,
   "id": "b7e0d260",
   "metadata": {},
   "outputs": [],
   "source": [
    "# find keys and print them if they exist. \n",
    "key_name = \"transitionEasing\"\n",
    "\n",
    "iterate_children(formatted_json['document'],\"transitionNodeID\")\n",
    "\n",
    "# for idx,child_element in enumerate(formatted_json['document']['children']):\n",
    "#     print(\"Element number : \"+str(idx) + \" -  name : \" + child_element['name'])\n",
    "#     return_keys(child_element,key_name)\n",
    "#     for idy,child_element_2 in enumerate(child_element['children']):\n"
   ]
  },
  {
   "cell_type": "code",
   "execution_count": 96,
   "id": "fa9bdfdd",
   "metadata": {},
   "outputs": [
    {
     "data": {
      "text/plain": [
       "{'absoluteBoundingBox',\n",
       " 'arcData',\n",
       " 'background',\n",
       " 'backgroundColor',\n",
       " 'blendMode',\n",
       " 'characterStyleOverrides',\n",
       " 'characters',\n",
       " 'children',\n",
       " 'clipsContent',\n",
       " 'componentId',\n",
       " 'constraints',\n",
       " 'cornerRadius',\n",
       " 'counterAxisAlignItems',\n",
       " 'counterAxisSizingMode',\n",
       " 'effects',\n",
       " 'exportSettings',\n",
       " 'fills',\n",
       " 'flowStartingPoints',\n",
       " 'id',\n",
       " 'isFixed',\n",
       " 'isMask',\n",
       " 'itemSpacing',\n",
       " 'layoutAlign',\n",
       " 'layoutGrids',\n",
       " 'layoutGrow',\n",
       " 'layoutMode',\n",
       " 'layoutVersion',\n",
       " 'lineIndentations',\n",
       " 'lineTypes',\n",
       " 'name',\n",
       " 'opacity',\n",
       " 'overflowDirection',\n",
       " 'paddingBottom',\n",
       " 'paddingLeft',\n",
       " 'paddingRight',\n",
       " 'paddingTop',\n",
       " 'preserveRatio',\n",
       " 'primaryAxisAlignItems',\n",
       " 'primaryAxisSizingMode',\n",
       " 'prototypeDevice',\n",
       " 'prototypeStartNodeID',\n",
       " 'rectangleCornerRadii',\n",
       " 'strokeAlign',\n",
       " 'strokeCap',\n",
       " 'strokeJoin',\n",
       " 'strokeWeight',\n",
       " 'strokes',\n",
       " 'style',\n",
       " 'styleOverrideTable',\n",
       " 'styles',\n",
       " 'type',\n",
       " 'visible'}"
      ]
     },
     "execution_count": 96,
     "metadata": {},
     "output_type": "execute_result"
    }
   ],
   "source": [
    "# print all the keys that exist\n",
    "key_set = set()\n",
    "\n",
    "def find_all_keys(child_list):\n",
    "    global key_set\n",
    "    try:\n",
    "        try:\n",
    "            key_set = key_set.union(child_list.keys())\n",
    "        except KeyError:\n",
    "            pass\n",
    "        for idx,child_element in enumerate(child_list['children']):\n",
    "            key_set = key_set.union(find_all_keys(child_element))\n",
    "    except KeyError:\n",
    "        pass\n",
    "    return key_set\n",
    "\n",
    "find_all_keys(formatted_json['document'])"
   ]
  },
  {
   "cell_type": "code",
   "execution_count": null,
   "id": "f9545787",
   "metadata": {},
   "outputs": [],
   "source": []
  },
  {
   "cell_type": "code",
   "execution_count": null,
   "id": "8067152c",
   "metadata": {},
   "outputs": [],
   "source": []
  },
  {
   "cell_type": "code",
   "execution_count": null,
   "id": "86ab57a1",
   "metadata": {},
   "outputs": [],
   "source": []
  },
  {
   "cell_type": "code",
   "execution_count": null,
   "id": "7f486339",
   "metadata": {},
   "outputs": [],
   "source": [
    "# todo, better way to print key nesting lineage"
   ]
  }
 ],
 "metadata": {
  "kernelspec": {
   "display_name": "Python 3 (ipykernel)",
   "language": "python",
   "name": "python3"
  },
  "language_info": {
   "codemirror_mode": {
    "name": "ipython",
    "version": 3
   },
   "file_extension": ".py",
   "mimetype": "text/x-python",
   "name": "python",
   "nbconvert_exporter": "python",
   "pygments_lexer": "ipython3",
   "version": "3.10.3"
  }
 },
 "nbformat": 4,
 "nbformat_minor": 5
}
