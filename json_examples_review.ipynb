{
 "cells": [
  {
   "cell_type": "code",
   "execution_count": 5,
   "id": "268a12b3",
   "metadata": {},
   "outputs": [],
   "source": [
    "from charset_normalizer import from_path\n",
    "from charset_normalizer import detect\n",
    "import json"
   ]
  },
  {
   "cell_type": "code",
   "execution_count": 2,
   "id": "0a04ed1c",
   "metadata": {},
   "outputs": [
    {
     "name": "stdout",
     "output_type": "stream",
     "text": [
      "['drizzy_prototype_json.json', 'NFT_Marketplace.json', 'Task_Management.json', 'App_UI_Kit.json', 'Mono-VPN.json', 'eCommerce_Mobile_App_UI_Kit.json', 'drizzy_prototype_json_raw.json']\n"
     ]
    }
   ],
   "source": [
    "from os import listdir\n",
    "from os.path import isfile, join\n",
    "mypath = 'json_files'\n",
    "onlyfiles = [f for f in listdir(mypath) if isfile(join(mypath, f))]\n",
    "print(onlyfiles)"
   ]
  },
  {
   "cell_type": "code",
   "execution_count": 7,
   "id": "7e7b0879",
   "metadata": {},
   "outputs": [],
   "source": [
    "def find_all_keys(child_list):\n",
    "    global key_set\n",
    "    try:\n",
    "        try:\n",
    "            key_set = key_set.union(child_list.keys())\n",
    "        except KeyError:\n",
    "            pass\n",
    "        for idx,child_element in enumerate(child_list['children']):\n",
    "            key_set = key_set.union(find_all_keys(child_element))\n",
    "    except KeyError:\n",
    "        pass\n",
    "    return key_set"
   ]
  },
  {
   "cell_type": "code",
   "execution_count": 25,
   "id": "2b631b27",
   "metadata": {
    "scrolled": true
   },
   "outputs": [
    {
     "name": "stdout",
     "output_type": "stream",
     "text": [
      "drizzy_prototype_json.json\n",
      "encoding = ascii\n",
      "number of keys = 58\n",
      "json keys:\n"
     ]
    },
    {
     "data": {
      "text/plain": [
       "{'absoluteBoundingBox',\n",
       " 'arcData',\n",
       " 'background',\n",
       " 'backgroundColor',\n",
       " 'blendMode',\n",
       " 'characterStyleOverrides',\n",
       " 'characters',\n",
       " 'children',\n",
       " 'clipsContent',\n",
       " 'componentId',\n",
       " 'constraints',\n",
       " 'cornerRadius',\n",
       " 'counterAxisAlignItems',\n",
       " 'counterAxisSizingMode',\n",
       " 'effects',\n",
       " 'exportSettings',\n",
       " 'fills',\n",
       " 'flowStartingPoints',\n",
       " 'id',\n",
       " 'isFixed',\n",
       " 'isMask',\n",
       " 'isMaskOutline',\n",
       " 'itemSpacing',\n",
       " 'layoutAlign',\n",
       " 'layoutGrow',\n",
       " 'layoutMode',\n",
       " 'layoutVersion',\n",
       " 'lineIndentations',\n",
       " 'lineTypes',\n",
       " 'locked',\n",
       " 'name',\n",
       " 'opacity',\n",
       " 'overflowDirection',\n",
       " 'paddingBottom',\n",
       " 'paddingLeft',\n",
       " 'paddingRight',\n",
       " 'paddingTop',\n",
       " 'preserveRatio',\n",
       " 'primaryAxisAlignItems',\n",
       " 'primaryAxisSizingMode',\n",
       " 'prototypeDevice',\n",
       " 'prototypeStartNodeID',\n",
       " 'rectangleCornerRadii',\n",
       " 'strokeAlign',\n",
       " 'strokeCap',\n",
       " 'strokeDashes',\n",
       " 'strokeJoin',\n",
       " 'strokeMiterAngle',\n",
       " 'strokeWeight',\n",
       " 'strokes',\n",
       " 'style',\n",
       " 'styleOverrideTable',\n",
       " 'styles',\n",
       " 'transitionDuration',\n",
       " 'transitionEasing',\n",
       " 'transitionNodeID',\n",
       " 'type',\n",
       " 'visible'}"
      ]
     },
     "execution_count": 25,
     "metadata": {},
     "output_type": "execute_result"
    }
   ],
   "source": [
    "file_name = onlyfiles[0]\n",
    "print(file_name)\n",
    "json_path = 'json_files/'+file_name\n",
    "with open(json_path, 'rb') as json_file:\n",
    "    data = json_file.read()\n",
    "    print(\"encoding = \" + detect(data).get(\"encoding\"))\n",
    "    \n",
    "results = from_path(json_path)\n",
    "formatted_json = json.loads(str(results.best()),strict=False)\n",
    "\n",
    "key_set = set()\n",
    "\n",
    "find_all_keys(formatted_json['document'])\n",
    "print(\"number of keys = \" + str(len(key_set)))\n",
    "print(\"json keys:\")\n",
    "key_set0 = key_set\n",
    "key_set"
   ]
  },
  {
   "cell_type": "code",
   "execution_count": 26,
   "id": "7ac6bdbd",
   "metadata": {},
   "outputs": [
    {
     "name": "stdout",
     "output_type": "stream",
     "text": [
      "NFT_Marketplace.json\n",
      "encoding = windows-1250\n",
      "number of keys = 52\n",
      "json keys:\n"
     ]
    },
    {
     "data": {
      "text/plain": [
       "{'absoluteBoundingBox',\n",
       " 'arcData',\n",
       " 'background',\n",
       " 'backgroundColor',\n",
       " 'blendMode',\n",
       " 'characterStyleOverrides',\n",
       " 'characters',\n",
       " 'children',\n",
       " 'clipsContent',\n",
       " 'componentId',\n",
       " 'constraints',\n",
       " 'cornerRadius',\n",
       " 'counterAxisAlignItems',\n",
       " 'counterAxisSizingMode',\n",
       " 'effects',\n",
       " 'exportSettings',\n",
       " 'fills',\n",
       " 'flowStartingPoints',\n",
       " 'id',\n",
       " 'isFixed',\n",
       " 'isMask',\n",
       " 'itemSpacing',\n",
       " 'layoutAlign',\n",
       " 'layoutGrids',\n",
       " 'layoutGrow',\n",
       " 'layoutMode',\n",
       " 'layoutVersion',\n",
       " 'lineIndentations',\n",
       " 'lineTypes',\n",
       " 'name',\n",
       " 'opacity',\n",
       " 'overflowDirection',\n",
       " 'paddingBottom',\n",
       " 'paddingLeft',\n",
       " 'paddingRight',\n",
       " 'paddingTop',\n",
       " 'preserveRatio',\n",
       " 'primaryAxisAlignItems',\n",
       " 'primaryAxisSizingMode',\n",
       " 'prototypeDevice',\n",
       " 'prototypeStartNodeID',\n",
       " 'rectangleCornerRadii',\n",
       " 'strokeAlign',\n",
       " 'strokeCap',\n",
       " 'strokeJoin',\n",
       " 'strokeWeight',\n",
       " 'strokes',\n",
       " 'style',\n",
       " 'styleOverrideTable',\n",
       " 'styles',\n",
       " 'type',\n",
       " 'visible'}"
      ]
     },
     "execution_count": 26,
     "metadata": {},
     "output_type": "execute_result"
    }
   ],
   "source": [
    "file_name = onlyfiles[1]\n",
    "print(file_name)\n",
    "json_path = 'json_files/'+file_name\n",
    "with open(json_path, 'rb') as json_file:\n",
    "    data = json_file.read()\n",
    "    print(\"encoding = \" + detect(data).get(\"encoding\"))\n",
    "    \n",
    "results = from_path(json_path)\n",
    "formatted_json = json.loads(str(results.best()),strict=False)\n",
    "\n",
    "key_set = set()\n",
    "\n",
    "find_all_keys(formatted_json['document'])\n",
    "print(\"number of keys = \" + str(len(key_set)))\n",
    "print(\"json keys:\")\n",
    "key_set1 = key_set\n",
    "key_set"
   ]
  },
  {
   "cell_type": "code",
   "execution_count": 27,
   "id": "92dc6a85",
   "metadata": {},
   "outputs": [
    {
     "name": "stdout",
     "output_type": "stream",
     "text": [
      "Task_Management.json\n",
      "encoding = windows-1250\n",
      "number of keys = 57\n",
      "json keys:\n"
     ]
    },
    {
     "data": {
      "text/plain": [
       "{'absoluteBoundingBox',\n",
       " 'arcData',\n",
       " 'background',\n",
       " 'backgroundColor',\n",
       " 'blendMode',\n",
       " 'booleanOperation',\n",
       " 'characterStyleOverrides',\n",
       " 'characters',\n",
       " 'children',\n",
       " 'clipsContent',\n",
       " 'componentId',\n",
       " 'constraints',\n",
       " 'cornerRadius',\n",
       " 'counterAxisAlignItems',\n",
       " 'counterAxisSizingMode',\n",
       " 'effects',\n",
       " 'exportSettings',\n",
       " 'fills',\n",
       " 'flowStartingPoints',\n",
       " 'id',\n",
       " 'isMask',\n",
       " 'itemSpacing',\n",
       " 'layoutAlign',\n",
       " 'layoutGrids',\n",
       " 'layoutGrow',\n",
       " 'layoutMode',\n",
       " 'layoutVersion',\n",
       " 'lineIndentations',\n",
       " 'lineTypes',\n",
       " 'locked',\n",
       " 'name',\n",
       " 'opacity',\n",
       " 'overflowDirection',\n",
       " 'paddingBottom',\n",
       " 'paddingLeft',\n",
       " 'paddingRight',\n",
       " 'paddingTop',\n",
       " 'preserveRatio',\n",
       " 'primaryAxisAlignItems',\n",
       " 'primaryAxisSizingMode',\n",
       " 'prototypeDevice',\n",
       " 'prototypeStartNodeID',\n",
       " 'rectangleCornerRadii',\n",
       " 'strokeAlign',\n",
       " 'strokeCap',\n",
       " 'strokeJoin',\n",
       " 'strokeMiterAngle',\n",
       " 'strokeWeight',\n",
       " 'strokes',\n",
       " 'style',\n",
       " 'styleOverrideTable',\n",
       " 'styles',\n",
       " 'transitionDuration',\n",
       " 'transitionEasing',\n",
       " 'transitionNodeID',\n",
       " 'type',\n",
       " 'visible'}"
      ]
     },
     "execution_count": 27,
     "metadata": {},
     "output_type": "execute_result"
    }
   ],
   "source": [
    "file_name = onlyfiles[2]\n",
    "print(file_name)\n",
    "json_path = 'json_files/'+file_name\n",
    "with open(json_path, 'rb') as json_file:\n",
    "    data = json_file.read()\n",
    "    print(\"encoding = \" + detect(data).get(\"encoding\"))\n",
    "    \n",
    "results = from_path(json_path)\n",
    "formatted_json = json.loads(str(results.best()),strict=False)\n",
    "\n",
    "key_set = set()\n",
    "\n",
    "find_all_keys(formatted_json['document'])\n",
    "print(\"number of keys = \" + str(len(key_set)))\n",
    "print(\"json keys:\")\n",
    "key_set2 = key_set\n",
    "key_set"
   ]
  },
  {
   "cell_type": "markdown",
   "id": "38aa24ed",
   "metadata": {},
   "source": [
    "## Exclude file with chinese for now, we can deal with parsing later"
   ]
  },
  {
   "cell_type": "code",
   "execution_count": 30,
   "id": "eac6cada",
   "metadata": {},
   "outputs": [
    {
     "name": "stdout",
     "output_type": "stream",
     "text": [
      "App_UI_Kit.json\n",
      "encoding = cp775\n"
     ]
    }
   ],
   "source": [
    "file_name = onlyfiles[3]\n",
    "print(file_name)\n",
    "json_path = 'json_files/'+file_name\n",
    "with open(json_path, 'rb') as json_file:\n",
    "    data = json_file.read()\n",
    "    print(\"encoding = \" + detect(data).get(\"encoding\"))\n",
    "    \n",
    "# results = from_path(json_path)\n",
    "# formatted_json = json.loads(str(results.best()),strict=False)\n",
    "\n",
    "# key_set = set()\n",
    "\n",
    "# find_all_keys(formatted_json['document'])\n",
    "# print(\"number of keys = \" + str(len(key_set)))\n",
    "# print(\"json keys:\")\n",
    "# key_set3 = key_set\n",
    "# key_set"
   ]
  },
  {
   "cell_type": "code",
   "execution_count": 28,
   "id": "a5fb4aed",
   "metadata": {},
   "outputs": [
    {
     "name": "stdout",
     "output_type": "stream",
     "text": [
      "Mono-VPN.json\n",
      "encoding = windows-1250\n",
      "number of keys = 32\n",
      "json keys:\n"
     ]
    },
    {
     "data": {
      "text/plain": [
       "{'absoluteBoundingBox',\n",
       " 'arcData',\n",
       " 'background',\n",
       " 'backgroundColor',\n",
       " 'blendMode',\n",
       " 'characterStyleOverrides',\n",
       " 'characters',\n",
       " 'children',\n",
       " 'clipsContent',\n",
       " 'componentId',\n",
       " 'constraints',\n",
       " 'cornerRadius',\n",
       " 'effects',\n",
       " 'exportSettings',\n",
       " 'fills',\n",
       " 'flowStartingPoints',\n",
       " 'id',\n",
       " 'layoutVersion',\n",
       " 'lineIndentations',\n",
       " 'lineTypes',\n",
       " 'name',\n",
       " 'preserveRatio',\n",
       " 'prototypeDevice',\n",
       " 'prototypeStartNodeID',\n",
       " 'rectangleCornerRadii',\n",
       " 'strokeAlign',\n",
       " 'strokeWeight',\n",
       " 'strokes',\n",
       " 'style',\n",
       " 'styleOverrideTable',\n",
       " 'styles',\n",
       " 'type'}"
      ]
     },
     "execution_count": 28,
     "metadata": {},
     "output_type": "execute_result"
    }
   ],
   "source": [
    "file_name = onlyfiles[4]\n",
    "print(file_name)\n",
    "json_path = 'json_files/'+file_name\n",
    "with open(json_path, 'rb') as json_file:\n",
    "    data = json_file.read()\n",
    "    print(\"encoding = \" + detect(data).get(\"encoding\"))\n",
    "    \n",
    "results = from_path(json_path)\n",
    "formatted_json = json.loads(str(results.best()),strict=False)\n",
    "\n",
    "key_set = set()\n",
    "\n",
    "find_all_keys(formatted_json['document'])\n",
    "print(\"number of keys = \" + str(len(key_set)))\n",
    "print(\"json keys:\")\n",
    "key_set4 = key_set\n",
    "key_set"
   ]
  },
  {
   "cell_type": "code",
   "execution_count": 29,
   "id": "f0bd5b03",
   "metadata": {},
   "outputs": [
    {
     "name": "stdout",
     "output_type": "stream",
     "text": [
      "eCommerce_Mobile_App_UI_Kit.json\n",
      "encoding = cp775\n",
      "number of keys = 51\n",
      "json keys:\n"
     ]
    },
    {
     "data": {
      "text/plain": [
       "{'absoluteBoundingBox',\n",
       " 'arcData',\n",
       " 'background',\n",
       " 'backgroundColor',\n",
       " 'blendMode',\n",
       " 'booleanOperation',\n",
       " 'characterStyleOverrides',\n",
       " 'characters',\n",
       " 'children',\n",
       " 'clipsContent',\n",
       " 'componentId',\n",
       " 'constraints',\n",
       " 'cornerRadius',\n",
       " 'counterAxisAlignItems',\n",
       " 'counterAxisSizingMode',\n",
       " 'effects',\n",
       " 'exportSettings',\n",
       " 'fills',\n",
       " 'flowStartingPoints',\n",
       " 'id',\n",
       " 'isMask',\n",
       " 'itemSpacing',\n",
       " 'layoutAlign',\n",
       " 'layoutGrids',\n",
       " 'layoutGrow',\n",
       " 'layoutMode',\n",
       " 'layoutVersion',\n",
       " 'lineIndentations',\n",
       " 'lineTypes',\n",
       " 'locked',\n",
       " 'name',\n",
       " 'opacity',\n",
       " 'paddingBottom',\n",
       " 'paddingLeft',\n",
       " 'paddingRight',\n",
       " 'paddingTop',\n",
       " 'preserveRatio',\n",
       " 'primaryAxisAlignItems',\n",
       " 'primaryAxisSizingMode',\n",
       " 'prototypeDevice',\n",
       " 'prototypeStartNodeID',\n",
       " 'rectangleCornerRadii',\n",
       " 'strokeAlign',\n",
       " 'strokeCap',\n",
       " 'strokeWeight',\n",
       " 'strokes',\n",
       " 'style',\n",
       " 'styleOverrideTable',\n",
       " 'styles',\n",
       " 'type',\n",
       " 'visible'}"
      ]
     },
     "execution_count": 29,
     "metadata": {},
     "output_type": "execute_result"
    }
   ],
   "source": [
    "file_name = onlyfiles[5]\n",
    "print(file_name)\n",
    "json_path = 'json_files/'+file_name\n",
    "with open(json_path, 'rb') as json_file:\n",
    "    data = json_file.read()\n",
    "    print(\"encoding = \" + detect(data).get(\"encoding\"))\n",
    "    \n",
    "results = from_path(json_path)\n",
    "formatted_json = json.loads(str(results.best()),strict=False)\n",
    "\n",
    "key_set = set()\n",
    "\n",
    "find_all_keys(formatted_json['document'])\n",
    "print(\"number of keys = \" + str(len(key_set)))\n",
    "print(\"json keys:\")\n",
    "key_set5 = key_set\n",
    "key_set"
   ]
  },
  {
   "cell_type": "code",
   "execution_count": 44,
   "id": "bfe994df",
   "metadata": {},
   "outputs": [
    {
     "name": "stdout",
     "output_type": "stream",
     "text": [
      "key set number: 0\n",
      "{'strokeDashes', 'isMaskOutline'}\n",
      "key set number: 1\n",
      "set()\n",
      "key set number: 2\n",
      "set()\n",
      "key set number: 3\n",
      "set()\n",
      "key set number: 4\n",
      "set()\n"
     ]
    }
   ],
   "source": [
    "# find unique keys for each file\n",
    "all_key_sets = [key_set0,key_set1,key_set2,key_set4,key_set5]\n",
    "\n",
    "for idx,key_set in enumerate(all_key_sets):\n",
    "    other_key_sets = all_key_sets[:]\n",
    "    other_key_sets.pop(idx)\n",
    "    other_key_sets_merged = set.union(*other_key_sets)\n",
    "    print(\"key set number: \"+ str(idx))\n",
    "    print(key_set - other_key_sets_merged)"
   ]
  },
  {
   "cell_type": "code",
   "execution_count": 45,
   "id": "ce2ffcf4",
   "metadata": {},
   "outputs": [
    {
     "name": "stdout",
     "output_type": "stream",
     "text": [
      "key set number: 0\n",
      "{'paddingLeft', 'transitionDuration', 'opacity', 'paddingBottom', 'layoutAlign', 'locked', 'strokeJoin', 'isMask', 'layoutMode', 'transitionEasing', 'strokeCap', 'strokeDashes', 'isMaskOutline', 'primaryAxisAlignItems', 'layoutGrow', 'isFixed', 'paddingRight', 'overflowDirection', 'strokeMiterAngle', 'transitionNodeID', 'primaryAxisSizingMode', 'paddingTop', 'counterAxisSizingMode', 'visible', 'itemSpacing', 'counterAxisAlignItems'}\n",
      "key set number: 1\n",
      "{'paddingLeft', 'opacity', 'paddingBottom', 'layoutAlign', 'strokeJoin', 'isMask', 'layoutMode', 'strokeCap', 'primaryAxisAlignItems', 'layoutGrow', 'isFixed', 'paddingRight', 'overflowDirection', 'layoutGrids', 'primaryAxisSizingMode', 'paddingTop', 'counterAxisSizingMode', 'visible', 'itemSpacing', 'counterAxisAlignItems'}\n",
      "key set number: 2\n",
      "{'paddingLeft', 'transitionDuration', 'opacity', 'paddingBottom', 'layoutAlign', 'locked', 'strokeJoin', 'isMask', 'layoutMode', 'transitionEasing', 'strokeCap', 'primaryAxisAlignItems', 'layoutGrow', 'paddingRight', 'overflowDirection', 'layoutGrids', 'strokeMiterAngle', 'transitionNodeID', 'primaryAxisSizingMode', 'paddingTop', 'counterAxisSizingMode', 'visible', 'itemSpacing', 'booleanOperation', 'counterAxisAlignItems'}\n",
      "key set number: 3\n",
      "set()\n",
      "key set number: 4\n",
      "{'paddingLeft', 'opacity', 'paddingBottom', 'layoutAlign', 'locked', 'isMask', 'layoutMode', 'strokeCap', 'primaryAxisAlignItems', 'layoutGrow', 'paddingRight', 'layoutGrids', 'primaryAxisSizingMode', 'paddingTop', 'counterAxisSizingMode', 'visible', 'itemSpacing', 'booleanOperation', 'counterAxisAlignItems'}\n"
     ]
    }
   ],
   "source": [
    "# relative to the basic monoset vpn\n",
    "all_key_sets = [key_set0,key_set1,key_set2,key_set4,key_set5]\n",
    "\n",
    "for idx,key_set in enumerate(all_key_sets):\n",
    "    print(\"key set number: \"+ str(idx))\n",
    "    print(key_set - key_set4)"
   ]
  },
  {
   "cell_type": "code",
   "execution_count": null,
   "id": "372f7efb",
   "metadata": {},
   "outputs": [],
   "source": []
  }
 ],
 "metadata": {
  "kernelspec": {
   "display_name": "Python 3 (ipykernel)",
   "language": "python",
   "name": "python3"
  },
  "language_info": {
   "codemirror_mode": {
    "name": "ipython",
    "version": 3
   },
   "file_extension": ".py",
   "mimetype": "text/x-python",
   "name": "python",
   "nbconvert_exporter": "python",
   "pygments_lexer": "ipython3",
   "version": "3.10.3"
  }
 },
 "nbformat": 4,
 "nbformat_minor": 5
}
